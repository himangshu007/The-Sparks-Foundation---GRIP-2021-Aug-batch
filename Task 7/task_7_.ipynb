{
  "nbformat": 4,
  "nbformat_minor": 0,
  "metadata": {
    "colab": {
      "name": "task 7 .ipynb",
      "provenance": [],
      "toc_visible": true
    },
    "kernelspec": {
      "name": "python3",
      "display_name": "Python 3"
    },
    "language_info": {
      "name": "python"
    }
  },
  "cells": [
    {
      "cell_type": "markdown",
      "metadata": {
        "id": "MegKH7J0Uzy2"
      },
      "source": [
        "# Task 7 : Stock Market Prediction using Numerical and Textual Analysis\n",
        "## Task Objective : Create a hybrid model for stock price/performance prediction using numerical analysis of historical stock prices, and sentimental analysis of news headlines\n",
        "-Himangshu Baruah"
      ]
    },
    {
      "cell_type": "markdown",
      "metadata": {
        "id": "Mg8xB-ix2jOE"
      },
      "source": [
        "# Part 1 : Stock Price Analysis"
      ]
    },
    {
      "cell_type": "markdown",
      "metadata": {
        "id": "QVwhnnCAN4l6"
      },
      "source": [
        "## Importing Libraries"
      ]
    },
    {
      "cell_type": "code",
      "metadata": {
        "id": "8tGtS-rCVTGo",
        "colab": {
          "base_uri": "https://localhost:8080/"
        },
        "outputId": "3623e8fe-b8b3-40c6-ba7a-9c6573635ec2"
      },
      "source": [
        "import matplotlib.pyplot as plt\n",
        "import pandas as pd \n",
        "import numpy as np\n",
        "import seaborn as sns\n",
        "\n",
        "from sklearn.preprocessing import MinMaxScaler\n",
        "from sklearn.metrics import mean_squared_error\n",
        "from sklearn import metrics \n",
        "\n",
        "from keras.models import Sequential\n",
        "from keras.layers import Dense, LSTM , Dropout\n",
        "\n",
        "import nltk\n",
        "from nltk.classify import NaiveBayesClassifier\n",
        "from nltk.corpus import subjectivity\n",
        "from nltk.sentiment import SentimentAnalyzer\n",
        "from nltk.sentiment.util import *\n",
        "\n",
        "import math"
      ],
      "execution_count": null,
      "outputs": [
        {
          "output_type": "stream",
          "text": [
            "/usr/local/lib/python3.7/dist-packages/nltk/twitter/__init__.py:20: UserWarning: The twython library has not been installed. Some functionality from the twitter package will not be available.\n",
            "  warnings.warn(\"The twython library has not been installed. \"\n"
          ],
          "name": "stderr"
        }
      ]
    },
    {
      "cell_type": "markdown",
      "metadata": {
        "id": "0td83N2vN83B"
      },
      "source": [
        "## Importing the stock data"
      ]
    },
    {
      "cell_type": "code",
      "metadata": {
        "id": "AyZhCsGSVh1b",
        "colab": {
          "base_uri": "https://localhost:8080/",
          "height": 203
        },
        "outputId": "f77fcfaa-e845-4332-db18-7a3582a11441"
      },
      "source": [
        "stock_price_data =pd.read_csv('/content/drive/MyDrive/The Sparks foundation /task 7/stock_price.csv')\n",
        "stock_price_data.head()"
      ],
      "execution_count": null,
      "outputs": [
        {
          "output_type": "execute_result",
          "data": {
            "text/html": [
              "<div>\n",
              "<style scoped>\n",
              "    .dataframe tbody tr th:only-of-type {\n",
              "        vertical-align: middle;\n",
              "    }\n",
              "\n",
              "    .dataframe tbody tr th {\n",
              "        vertical-align: top;\n",
              "    }\n",
              "\n",
              "    .dataframe thead th {\n",
              "        text-align: right;\n",
              "    }\n",
              "</style>\n",
              "<table border=\"1\" class=\"dataframe\">\n",
              "  <thead>\n",
              "    <tr style=\"text-align: right;\">\n",
              "      <th></th>\n",
              "      <th>Date</th>\n",
              "      <th>Open</th>\n",
              "      <th>High</th>\n",
              "      <th>Low</th>\n",
              "      <th>Close</th>\n",
              "      <th>Adj Close</th>\n",
              "      <th>Volume</th>\n",
              "    </tr>\n",
              "  </thead>\n",
              "  <tbody>\n",
              "    <tr>\n",
              "      <th>0</th>\n",
              "      <td>2004-08-19</td>\n",
              "      <td>49.813290</td>\n",
              "      <td>51.835709</td>\n",
              "      <td>47.800831</td>\n",
              "      <td>49.982655</td>\n",
              "      <td>49.982655</td>\n",
              "      <td>44871361</td>\n",
              "    </tr>\n",
              "    <tr>\n",
              "      <th>1</th>\n",
              "      <td>2004-08-20</td>\n",
              "      <td>50.316402</td>\n",
              "      <td>54.336334</td>\n",
              "      <td>50.062355</td>\n",
              "      <td>53.952770</td>\n",
              "      <td>53.952770</td>\n",
              "      <td>22942874</td>\n",
              "    </tr>\n",
              "    <tr>\n",
              "      <th>2</th>\n",
              "      <td>2004-08-23</td>\n",
              "      <td>55.168217</td>\n",
              "      <td>56.528118</td>\n",
              "      <td>54.321388</td>\n",
              "      <td>54.495735</td>\n",
              "      <td>54.495735</td>\n",
              "      <td>18342897</td>\n",
              "    </tr>\n",
              "    <tr>\n",
              "      <th>3</th>\n",
              "      <td>2004-08-24</td>\n",
              "      <td>55.412300</td>\n",
              "      <td>55.591629</td>\n",
              "      <td>51.591621</td>\n",
              "      <td>52.239197</td>\n",
              "      <td>52.239197</td>\n",
              "      <td>15319808</td>\n",
              "    </tr>\n",
              "    <tr>\n",
              "      <th>4</th>\n",
              "      <td>2004-08-25</td>\n",
              "      <td>52.284027</td>\n",
              "      <td>53.798351</td>\n",
              "      <td>51.746044</td>\n",
              "      <td>52.802086</td>\n",
              "      <td>52.802086</td>\n",
              "      <td>9232276</td>\n",
              "    </tr>\n",
              "  </tbody>\n",
              "</table>\n",
              "</div>"
            ],
            "text/plain": [
              "         Date       Open       High        Low      Close  Adj Close    Volume\n",
              "0  2004-08-19  49.813290  51.835709  47.800831  49.982655  49.982655  44871361\n",
              "1  2004-08-20  50.316402  54.336334  50.062355  53.952770  53.952770  22942874\n",
              "2  2004-08-23  55.168217  56.528118  54.321388  54.495735  54.495735  18342897\n",
              "3  2004-08-24  55.412300  55.591629  51.591621  52.239197  52.239197  15319808\n",
              "4  2004-08-25  52.284027  53.798351  51.746044  52.802086  52.802086   9232276"
            ]
          },
          "metadata": {},
          "execution_count": 2
        }
      ]
    },
    {
      "cell_type": "code",
      "metadata": {
        "colab": {
          "base_uri": "https://localhost:8080/"
        },
        "id": "Nnwq_Rw2-0As",
        "outputId": "64e7ca0c-415a-4b1a-f2c4-abb20cd9f3c2"
      },
      "source": [
        "stock_price_data.info()"
      ],
      "execution_count": null,
      "outputs": [
        {
          "output_type": "stream",
          "text": [
            "<class 'pandas.core.frame.DataFrame'>\n",
            "RangeIndex: 4277 entries, 0 to 4276\n",
            "Data columns (total 7 columns):\n",
            " #   Column     Non-Null Count  Dtype  \n",
            "---  ------     --------------  -----  \n",
            " 0   Date       4277 non-null   object \n",
            " 1   Open       4277 non-null   float64\n",
            " 2   High       4277 non-null   float64\n",
            " 3   Low        4277 non-null   float64\n",
            " 4   Close      4277 non-null   float64\n",
            " 5   Adj Close  4277 non-null   float64\n",
            " 6   Volume     4277 non-null   int64  \n",
            "dtypes: float64(5), int64(1), object(1)\n",
            "memory usage: 234.0+ KB\n"
          ],
          "name": "stdout"
        }
      ]
    },
    {
      "cell_type": "markdown",
      "metadata": {
        "id": "5gAYsEffOGhy"
      },
      "source": [
        "## Visualising the stock data"
      ]
    },
    {
      "cell_type": "code",
      "metadata": {
        "colab": {
          "base_uri": "https://localhost:8080/",
          "height": 545
        },
        "id": "l1henryzAPi3",
        "outputId": "f2c900aa-3e34-4eeb-bb20-e5422e4975ec"
      },
      "source": [
        "stock_price_data['Date'] = pd.to_datetime(stock_price_data.Date,format='%Y-%m-%d')\n",
        "stock_price_data.index = stock_price_data['Date']\n",
        "stock_price_data.dropna(inplace=True)\n",
        "\n",
        "plt.figure(figsize=(16,8))\n",
        "plt.title('Close Price history\\n')\n",
        "plt.xlabel('Time (Year)')\n",
        "plt.ylabel('Close Price')\n",
        "plt.plot(stock_price_data['Close'])"
      ],
      "execution_count": null,
      "outputs": [
        {
          "output_type": "execute_result",
          "data": {
            "text/plain": [
              "[<matplotlib.lines.Line2D at 0x7f9d35d32fd0>]"
            ]
          },
          "metadata": {},
          "execution_count": 4
        },
        {
          "output_type": "display_data",
          "data": {
            "image/png": "[encoded data removed]",
            "text/plain": [
              "<Figure size 1152x576 with 1 Axes>"
            ]
          },
          "metadata": {
            "needs_background": "light"
          }
        }
      ]
    },
    {
      "cell_type": "code",
      "metadata": {
        "id": "NfybatuUB2Pd"
      },
      "source": [
        "np.random.seed(10)"
      ],
      "execution_count": null,
      "outputs": []
    },
    {
      "cell_type": "markdown",
      "metadata": {
        "id": "U_TKrYOxOShL"
      },
      "source": [
        "## Data precprocessing"
      ]
    },
    {
      "cell_type": "markdown",
      "metadata": {
        "id": "yEE7NyGsOtwv"
      },
      "source": [
        "### Creating the dataframe"
      ]
    },
    {
      "cell_type": "code",
      "metadata": {
        "id": "VwcqEYghBrWN"
      },
      "source": [
        "df = pd.read_csv('/content/drive/MyDrive/The Sparks foundation /task 7/stock_price.csv', usecols=[5], engine='python')\n",
        "df.dropna(inplace=True)\n",
        "df = df.values\n",
        "df = df.astype('float32')"
      ],
      "execution_count": null,
      "outputs": []
    },
    {
      "cell_type": "markdown",
      "metadata": {
        "id": "IdhTt0JdOnPa"
      },
      "source": [
        "### Standardising the dataframe"
      ]
    },
    {
      "cell_type": "code",
      "metadata": {
        "id": "6yI2kwGlDWCe"
      },
      "source": [
        "# normalize the dataset\n",
        "scaler = MinMaxScaler(feature_range=(0, 1))\n",
        "df = scaler.fit_transform(df)\n",
        "\n",
        "# split into train and test sets \n",
        "train_size = int(len(df) * 0.80)\n",
        "test_size = len(df) - train_size\n",
        "train, test = df[0:train_size,:], df[train_size:len(df),:]"
      ],
      "execution_count": null,
      "outputs": []
    },
    {
      "cell_type": "code",
      "metadata": {
        "colab": {
          "base_uri": "https://localhost:8080/"
        },
        "id": "XY9-XlTXFyU-",
        "outputId": "06b2da84-d136-419d-ea61-6908586a73c5"
      },
      "source": [
        "len(df)"
      ],
      "execution_count": null,
      "outputs": [
        {
          "output_type": "execute_result",
          "data": {
            "text/plain": [
              "4277"
            ]
          },
          "metadata": {},
          "execution_count": 8
        }
      ]
    },
    {
      "cell_type": "code",
      "metadata": {
        "colab": {
          "base_uri": "https://localhost:8080/"
        },
        "id": "TgptljTuI8_C",
        "outputId": "306def6a-4740-4d7d-98b8-20356627e1f6"
      },
      "source": [
        "len(train)"
      ],
      "execution_count": null,
      "outputs": [
        {
          "output_type": "execute_result",
          "data": {
            "text/plain": [
              "3421"
            ]
          },
          "metadata": {},
          "execution_count": 9
        }
      ]
    },
    {
      "cell_type": "code",
      "metadata": {
        "colab": {
          "base_uri": "https://localhost:8080/"
        },
        "id": "ZKaYzm3yyNl5",
        "outputId": "61b7d704-bff7-431a-a472-a548a4668d93"
      },
      "source": [
        "train.shape"
      ],
      "execution_count": null,
      "outputs": [
        {
          "output_type": "execute_result",
          "data": {
            "text/plain": [
              "(3421, 1)"
            ]
          },
          "metadata": {},
          "execution_count": 10
        }
      ]
    },
    {
      "cell_type": "markdown",
      "metadata": {
        "id": "W0gNsZ-FO6YD"
      },
      "source": [
        "### Creating a Data Sructures with 120 timesteps and 1 outputs\n",
        "\n",
        " i.e. at each time t , the model is going to look at 120 stock prices before time t. "
      ]
    },
    {
      "cell_type": "code",
      "metadata": {
        "id": "16lQCZQ1AWcv"
      },
      "source": [
        "xtrain = []\n",
        "ytrain = []\n",
        "for i in range(120,3421):\n",
        "  xtrain.append(train[i-120:i,0])\n",
        "  ytrain.append(train[i,0])\n",
        "xtrain,ytrain= np.array(xtrain) , np.array(ytrain)"
      ],
      "execution_count": null,
      "outputs": []
    },
    {
      "cell_type": "code",
      "metadata": {
        "colab": {
          "base_uri": "https://localhost:8080/"
        },
        "id": "TvyNbP1oTbA4",
        "outputId": "a885f6d0-bbab-4b2b-cd56-8d2e98767e1a"
      },
      "source": [
        "xtrain.shape"
      ],
      "execution_count": null,
      "outputs": [
        {
          "output_type": "execute_result",
          "data": {
            "text/plain": [
              "(3301, 120)"
            ]
          },
          "metadata": {},
          "execution_count": 12
        }
      ]
    },
    {
      "cell_type": "markdown",
      "metadata": {
        "id": "z0HDVWbEPcB_"
      },
      "source": [
        "### Reshaping the data from 2d array to 3d array:"
      ]
    },
    {
      "cell_type": "code",
      "metadata": {
        "id": "KyBlr4ZfGSyV"
      },
      "source": [
        "xtrain = np.reshape(xtrain,(xtrain.shape[0],xtrain.shape[1],1))"
      ],
      "execution_count": null,
      "outputs": []
    },
    {
      "cell_type": "code",
      "metadata": {
        "colab": {
          "base_uri": "https://localhost:8080/"
        },
        "id": "-b_2y-bHa5YM",
        "outputId": "7898b1b3-2287-4435-f5c7-b1fe51519c94"
      },
      "source": [
        "xtrain.shape"
      ],
      "execution_count": null,
      "outputs": [
        {
          "output_type": "execute_result",
          "data": {
            "text/plain": [
              "(3301, 120, 1)"
            ]
          },
          "metadata": {},
          "execution_count": 14
        }
      ]
    },
    {
      "cell_type": "markdown",
      "metadata": {
        "id": "rzDcQBfnP68x"
      },
      "source": [
        "## Building the model (RNN Model) :\n",
        "\n",
        "In General , for analysing the stock prices , RNN ( Recuurent Neural Networks ) is used "
      ]
    },
    {
      "cell_type": "markdown",
      "metadata": {
        "id": "EyREvQWcQ0Dh"
      },
      "source": [
        "### RNN model with 4 hidden layers , each having 100 neurons"
      ]
    },
    {
      "cell_type": "code",
      "metadata": {
        "id": "-wKwarl9HTkJ"
      },
      "source": [
        "model=Sequential()\n",
        "\n",
        "model.add(LSTM(100,return_sequences=True,activation='tanh',input_shape=(xtrain.shape[1],1)))\n",
        "model.add(Dropout(0.1))\n",
        "\n",
        "model.add(LSTM(100,return_sequences=True,activation='tanh'))\n",
        "model.add(Dropout(0.1))\n",
        "\n",
        "\n",
        "model.add(LSTM(100,return_sequences=True,activation='tanh'))\n",
        "model.add(Dropout(0.1))\n",
        "\n",
        "model.add(LSTM(100,activation='tanh'))\n",
        "model.add(Dropout(0.1))\n",
        "model.add(Dense(1))"
      ],
      "execution_count": null,
      "outputs": []
    },
    {
      "cell_type": "code",
      "metadata": {
        "colab": {
          "base_uri": "https://localhost:8080/"
        },
        "id": "rIatCXTTVy2Q",
        "outputId": "445f8622-6861-4dd8-c9fe-d3ad3e5a8abc"
      },
      "source": [
        "# model.compile(loss='mean_squared_error', optimizer='adam')\n",
        "# model.fit(xtrain, ytrain, validation_split=0.2, epochs=50, batch_size=20, verbose=2)\n",
        "\n",
        "# compiling and fitting the model\n",
        "model.compile(loss='mse' , optimizer='adam')\n",
        "model.fit(xtrain, ytrain, validation_split=0.2, epochs=10, batch_size=8, verbose=1)"
      ],
      "execution_count": null,
      "outputs": [
        {
          "output_type": "stream",
          "text": [
            "Epoch 1/10\n",
            "330/330 [==============================] - 93s 264ms/step - loss: 2.2727e-04 - val_loss: 4.8616e-04\n",
            "Epoch 2/10\n",
            "330/330 [==============================] - 88s 266ms/step - loss: 8.9169e-05 - val_loss: 1.5912e-04\n",
            "Epoch 3/10\n",
            "330/330 [==============================] - 85s 258ms/step - loss: 6.7889e-05 - val_loss: 1.2174e-04\n",
            "Epoch 4/10\n",
            "330/330 [==============================] - 85s 258ms/step - loss: 5.7159e-05 - val_loss: 3.2413e-04\n",
            "Epoch 5/10\n",
            "330/330 [==============================] - 85s 258ms/step - loss: 5.4565e-05 - val_loss: 1.8900e-04\n",
            "Epoch 6/10\n",
            "330/330 [==============================] - 85s 257ms/step - loss: 5.1778e-05 - val_loss: 6.4376e-04\n",
            "Epoch 7/10\n",
            "330/330 [==============================] - 85s 257ms/step - loss: 6.0782e-05 - val_loss: 1.1354e-04\n",
            "Epoch 8/10\n",
            "330/330 [==============================] - 85s 256ms/step - loss: 3.9523e-05 - val_loss: 1.8752e-04\n",
            "Epoch 9/10\n",
            "330/330 [==============================] - 85s 258ms/step - loss: 4.1039e-05 - val_loss: 6.5742e-05\n",
            "Epoch 10/10\n",
            "330/330 [==============================] - 85s 257ms/step - loss: 3.9974e-05 - val_loss: 1.4344e-04\n"
          ],
          "name": "stdout"
        },
        {
          "output_type": "execute_result",
          "data": {
            "text/plain": [
              "<keras.callbacks.History at 0x7f9d31465cd0>"
            ]
          },
          "metadata": {},
          "execution_count": 16
        }
      ]
    },
    {
      "cell_type": "markdown",
      "metadata": {
        "id": "l-DlRksdfYgL"
      },
      "source": [
        "## Making predictions"
      ]
    },
    {
      "cell_type": "markdown",
      "metadata": {
        "id": "o8QQyxuuMeA-"
      },
      "source": [
        "### Creating the input in the proper format"
      ]
    },
    {
      "cell_type": "code",
      "metadata": {
        "colab": {
          "base_uri": "https://localhost:8080/"
        },
        "id": "vyoucto8vARX",
        "outputId": "bb269f8a-cf4b-4bb8-bd29-843d983952ca"
      },
      "source": [
        "inputs = df[len(df)-len(test)-120:]\n",
        "inputs.reshape(-1,1)\n",
        "# inputs = scaler.transform(inputs)"
      ],
      "execution_count": null,
      "outputs": [
        {
          "output_type": "execute_result",
          "data": {
            "text/plain": [
              "array([[0.32798332],\n",
              "       [0.3314867 ],\n",
              "       [0.32935768],\n",
              "       [0.33100545],\n",
              "       [0.3287781 ],\n",
              "       [0.33544213],\n",
              "       [0.3386976 ],\n",
              "       [0.33800858],\n",
              "       [0.33640456],\n",
              "       [0.3424744 ],\n",
              "       [0.34195673],\n",
              "       [0.34263116],\n",
              "       [0.3434769 ],\n",
              "       [0.34354252],\n",
              "       [0.34377217],\n",
              "       [0.34072453],\n",
              "       [0.34209162],\n",
              "       [0.33489168],\n",
              "       [0.33565354],\n",
              "       [0.3366707 ],\n",
              "       [0.33638996],\n",
              "       [0.35341835],\n",
              "       [0.35263085],\n",
              "       [0.35245955],\n",
              "       [0.35568953],\n",
              "       [0.35571867],\n",
              "       [0.3582341 ],\n",
              "       [0.35583532],\n",
              "       [0.35854393],\n",
              "       [0.36092085],\n",
              "       [0.35778934],\n",
              "       [0.3566264 ],\n",
              "       [0.35578066],\n",
              "       [0.3558718 ],\n",
              "       [0.35401618],\n",
              "       [0.35824138],\n",
              "       [0.35335273],\n",
              "       [0.35309386],\n",
              "       [0.35896683],\n",
              "       [0.35950273],\n",
              "       [0.3611979 ],\n",
              "       [0.36615586],\n",
              "       [0.3636769 ],\n",
              "       [0.3542896 ],\n",
              "       [0.35419846],\n",
              "       [0.35010087],\n",
              "       [0.34591216],\n",
              "       [0.34827083],\n",
              "       [0.35309386],\n",
              "       [0.35766906],\n",
              "       [0.35990012],\n",
              "       [0.36137652],\n",
              "       [0.3611505 ],\n",
              "       [0.3611979 ],\n",
              "       [0.36431122],\n",
              "       [0.36979413],\n",
              "       [0.37451512],\n",
              "       [0.37216014],\n",
              "       [0.37007117],\n",
              "       [0.36958998],\n",
              "       [0.3683104 ],\n",
              "       [0.36707819],\n",
              "       [0.36439145],\n",
              "       [0.36394304],\n",
              "       [0.36330873],\n",
              "       [0.3700894 ],\n",
              "       [0.3764618 ],\n",
              "       [0.37789088],\n",
              "       [0.3836618 ],\n",
              "       [0.38537884],\n",
              "       [0.38513094],\n",
              "       [0.38380033],\n",
              "       [0.38486117],\n",
              "       [0.39096385],\n",
              "       [0.39078158],\n",
              "       [0.3945073 ],\n",
              "       [0.39370894],\n",
              "       [0.3965233 ],\n",
              "       [0.40319467],\n",
              "       [0.40835673],\n",
              "       [0.40626782],\n",
              "       [0.40850258],\n",
              "       [0.41049665],\n",
              "       [0.41040188],\n",
              "       [0.4060673 ],\n",
              "       [0.40834576],\n",
              "       [0.40752918],\n",
              "       [0.38718706],\n",
              "       [0.36673552],\n",
              "       [0.37577647],\n",
              "       [0.36410344],\n",
              "       [0.3469475 ],\n",
              "       [0.36016625],\n",
              "       [0.3653283 ],\n",
              "       [0.36538666],\n",
              "       [0.3718028 ],\n",
              "       [0.37902832],\n",
              "       [0.3809532 ],\n",
              "       [0.3837456 ],\n",
              "       [0.38698286],\n",
              "       [0.38526583],\n",
              "       [0.39261526],\n",
              "       [0.3987981 ],\n",
              "       [0.38951653],\n",
              "       [0.38457316],\n",
              "       [0.37173718],\n",
              "       [0.37516403],\n",
              "       [0.37954235],\n",
              "       [0.38104796],\n",
              "       [0.38636315],\n",
              "       [0.39232725],\n",
              "       [0.4047367 ],\n",
              "       [0.40636265],\n",
              "       [0.39676392],\n",
              "       [0.40089065],\n",
              "       [0.40092343],\n",
              "       [0.39587438],\n",
              "       [0.38278317],\n",
              "       [0.38201398],\n",
              "       [0.3795241 ],\n",
              "       [0.3642857 ],\n",
              "       [0.3542568 ],\n",
              "       [0.36579132],\n",
              "       [0.3482526 ],\n",
              "       [0.34805572],\n",
              "       [0.35798258],\n",
              "       [0.34875202],\n",
              "       [0.351282  ],\n",
              "       [0.35555828],\n",
              "       [0.35653162],\n",
              "       [0.3489598 ],\n",
              "       [0.35202575],\n",
              "       [0.35792786],\n",
              "       [0.35367352],\n",
              "       [0.35824502],\n",
              "       [0.3570639 ],\n",
              "       [0.36023915],\n",
              "       [0.37342876],\n",
              "       [0.37267047],\n",
              "       [0.3783648 ],\n",
              "       [0.37299126],\n",
              "       [0.3709826 ],\n",
              "       [0.35367715],\n",
              "       [0.3541146 ],\n",
              "       [0.36099017],\n",
              "       [0.35734826],\n",
              "       [0.35271108],\n",
              "       [0.3599949 ],\n",
              "       [0.35528117],\n",
              "       [0.3550406 ],\n",
              "       [0.36396855],\n",
              "       [0.36636734],\n",
              "       [0.3660465 ],\n",
              "       [0.3765639 ],\n",
              "       [0.38196295],\n",
              "       [0.3822145 ],\n",
              "       [0.38292176],\n",
              "       [0.37527704],\n",
              "       [0.376203  ],\n",
              "       [0.3750437 ],\n",
              "       [0.3705852 ],\n",
              "       [0.3754046 ],\n",
              "       [0.37181377],\n",
              "       [0.3754447 ],\n",
              "       [0.37528068],\n",
              "       [0.37397557],\n",
              "       [0.3683833 ],\n",
              "       [0.3711102 ],\n",
              "       [0.37737685],\n",
              "       [0.38995767],\n",
              "       [0.3971722 ],\n",
              "       [0.3973071 ],\n",
              "       [0.39629364],\n",
              "       [0.39154708],\n",
              "       [0.3904571 ],\n",
              "       [0.39378184],\n",
              "       [0.39718312],\n",
              "       [0.3955317 ],\n",
              "       [0.40184945],\n",
              "       [0.40190047],\n",
              "       [0.40962905],\n",
              "       [0.40766048],\n",
              "       [0.40830934],\n",
              "       [0.4038691 ],\n",
              "       [0.40307432],\n",
              "       [0.39189345],\n",
              "       [0.38957852],\n",
              "       [0.38429976],\n",
              "       [0.3880328 ],\n",
              "       [0.38855416],\n",
              "       [0.39285952],\n",
              "       [0.38390243],\n",
              "       [0.39169657],\n",
              "       [0.397493  ],\n",
              "       [0.40255302],\n",
              "       [0.4021119 ],\n",
              "       [0.40249836],\n",
              "       [0.41328186],\n",
              "       [0.4152286 ],\n",
              "       [0.41342038],\n",
              "       [0.41886687],\n",
              "       [0.41780233],\n",
              "       [0.41455048],\n",
              "       [0.41380322],\n",
              "       [0.42130935],\n",
              "       [0.43683213],\n",
              "       [0.44252646],\n",
              "       [0.44421434],\n",
              "       [0.43333966],\n",
              "       [0.42650062],\n",
              "       [0.42559654],\n",
              "       [0.4265991 ],\n",
              "       [0.42883742],\n",
              "       [0.42794788],\n",
              "       [0.42833436],\n",
              "       [0.43469584],\n",
              "       [0.43593168],\n",
              "       [0.43720394],\n",
              "       [0.43301523],\n",
              "       [0.4320674 ],\n",
              "       [0.4346521 ],\n",
              "       [0.4245466 ],\n",
              "       [0.42167026],\n",
              "       [0.41965425],\n",
              "       [0.4221369 ],\n",
              "       [0.41989487],\n",
              "       [0.4219765 ],\n",
              "       [0.4212656 ],\n",
              "       [0.42683238],\n",
              "       [0.43455   ],\n",
              "       [0.4306602 ],\n",
              "       [0.4372769 ],\n",
              "       [0.43356568],\n",
              "       [0.42593557],\n",
              "       [0.4182107 ],\n",
              "       [0.41437554],\n",
              "       [0.40889263],\n",
              "       [0.40648293],\n",
              "       [0.40641367],\n",
              "       [0.4110508 ],\n",
              "       [0.40575016],\n",
              "       [0.41031075],\n",
              "       [0.40929002],\n",
              "       [0.40328217],\n",
              "       [0.40516686],\n",
              "       [0.40876502],\n",
              "       [0.4145177 ],\n",
              "       [0.40694225],\n",
              "       [0.4095962 ],\n",
              "       [0.4137084 ],\n",
              "       [0.41219187],\n",
              "       [0.4173503 ],\n",
              "       [0.41692376],\n",
              "       [0.41759455],\n",
              "       [0.41934443],\n",
              "       [0.42037976],\n",
              "       [0.4077078 ],\n",
              "       [0.40375602],\n",
              "       [0.4007011 ],\n",
              "       [0.39700085],\n",
              "       [0.3760025 ],\n",
              "       [0.37530982],\n",
              "       [0.38652354],\n",
              "       [0.38002354],\n",
              "       [0.39060658],\n",
              "       [0.3885687 ],\n",
              "       [0.3784632 ],\n",
              "       [0.3815583 ],\n",
              "       [0.38327175],\n",
              "       [0.38419402],\n",
              "       [0.3648799 ],\n",
              "       [0.3812338 ],\n",
              "       [0.3724481 ],\n",
              "       [0.35371363],\n",
              "       [0.35959387],\n",
              "       [0.37438023],\n",
              "       [0.37191218],\n",
              "       [0.36746097],\n",
              "       [0.36100835],\n",
              "       [0.36673915],\n",
              "       [0.38043916],\n",
              "       [0.37643266],\n",
              "       [0.37050867],\n",
              "       [0.36047614],\n",
              "       [0.35953557],\n",
              "       [0.3623098 ],\n",
              "       [0.36998367],\n",
              "       [0.36880982],\n",
              "       [0.35368443],\n",
              "       [0.3557843 ],\n",
              "       [0.36010426],\n",
              "       [0.3550989 ],\n",
              "       [0.36411798],\n",
              "       [0.36258322],\n",
              "       [0.3778289 ],\n",
              "       [0.37858355],\n",
              "       [0.3808183 ],\n",
              "       [0.38519293],\n",
              "       [0.36492002],\n",
              "       [0.37144917],\n",
              "       [0.35972875],\n",
              "       [0.36081153],\n",
              "       [0.36525905],\n",
              "       [0.36960822],\n",
              "       [0.3689593 ],\n",
              "       [0.36174113],\n",
              "       [0.35241944],\n",
              "       [0.35685968],\n",
              "       [0.35478175],\n",
              "       [0.34982383],\n",
              "       [0.33893454],\n",
              "       [0.3377242 ],\n",
              "       [0.3607787 ],\n",
              "       [0.36239004],\n",
              "       [0.35991102],\n",
              "       [0.35937512],\n",
              "       [0.36310816],\n",
              "       [0.35224807],\n",
              "       [0.37217098],\n",
              "       [0.37132525],\n",
              "       [0.3742016 ],\n",
              "       [0.37361103],\n",
              "       [0.37203246],\n",
              "       [0.36724222],\n",
              "       [0.36268526],\n",
              "       [0.37451875],\n",
              "       [0.37591136],\n",
              "       [0.37916684],\n",
              "       [0.3822145 ],\n",
              "       [0.37210178],\n",
              "       [0.37394273],\n",
              "       [0.373334  ],\n",
              "       [0.37956417],\n",
              "       [0.37194133],\n",
              "       [0.36849266],\n",
              "       [0.37886065],\n",
              "       [0.3888166 ],\n",
              "       [0.3867678 ],\n",
              "       [0.39480627],\n",
              "       [0.3996147 ],\n",
              "       [0.38840097],\n",
              "       [0.38237852],\n",
              "       [0.38104796],\n",
              "       [0.38102973],\n",
              "       [0.39063936],\n",
              "       [0.3901983 ],\n",
              "       [0.39074874],\n",
              "       [0.387825  ],\n",
              "       [0.389615  ],\n",
              "       [0.38787973],\n",
              "       [0.3817442 ],\n",
              "       [0.38662928],\n",
              "       [0.38627565],\n",
              "       [0.38836455],\n",
              "       [0.38869995],\n",
              "       [0.3901108 ],\n",
              "       [0.39779192],\n",
              "       [0.40027457],\n",
              "       [0.4054622 ],\n",
              "       [0.403942  ],\n",
              "       [0.39863408],\n",
              "       [0.3982768 ],\n",
              "       [0.4104675 ],\n",
              "       [0.41682535],\n",
              "       [0.4168691 ],\n",
              "       [0.4140365 ],\n",
              "       [0.41363913],\n",
              "       [0.41356623],\n",
              "       [0.41888505],\n",
              "       [0.4280427 ],\n",
              "       [0.4308024 ],\n",
              "       [0.42130935],\n",
              "       [0.41675246],\n",
              "       [0.41369748],\n",
              "       [0.40946865],\n",
              "       [0.40781718],\n",
              "       [0.4095744 ],\n",
              "       [0.41727376],\n",
              "       [0.41948295],\n",
              "       [0.42146248],\n",
              "       [0.42477262],\n",
              "       [0.42191088],\n",
              "       [0.4207042 ],\n",
              "       [0.41830182],\n",
              "       [0.42009175],\n",
              "       [0.42098856],\n",
              "       [0.42581892],\n",
              "       [0.4269964 ],\n",
              "       [0.4291947 ],\n",
              "       [0.43255222],\n",
              "       [0.4325632 ],\n",
              "       [0.43710917],\n",
              "       [0.44283634],\n",
              "       [0.43971938],\n",
              "       [0.44243532],\n",
              "       [0.4456179 ],\n",
              "       [0.45123202],\n",
              "       [0.41510463],\n",
              "       [0.4076677 ],\n",
              "       [0.40567362],\n",
              "       [0.41398185],\n",
              "       [0.4154364 ],\n",
              "       [0.40986234],\n",
              "       [0.40700787],\n",
              "       [0.40558976],\n",
              "       [0.4062788 ],\n",
              "       [0.39452553],\n",
              "       [0.39030033],\n",
              "       [0.4062569 ],\n",
              "       [0.41164136],\n",
              "       [0.4055606 ],\n",
              "       [0.39701176],\n",
              "       [0.40094167],\n",
              "       [0.40159428],\n",
              "       [0.39771175],\n",
              "       [0.39505047],\n",
              "       [0.39529842],\n",
              "       [0.38884938],\n",
              "       [0.38939255],\n",
              "       [0.3841722 ],\n",
              "       [0.35960114],\n",
              "       [0.36573303],\n",
              "       [0.36178488],\n",
              "       [0.3625577 ],\n",
              "       [0.37046856],\n",
              "       [0.3756963 ],\n",
              "       [0.37509108],\n",
              "       [0.374475  ],\n",
              "       [0.3787549 ],\n",
              "       [0.3775081 ],\n",
              "       [0.38011467],\n",
              "       [0.38416123],\n",
              "       [0.38369823],\n",
              "       [0.38701206],\n",
              "       [0.39082527],\n",
              "       [0.3885067 ],\n",
              "       [0.37787265],\n",
              "       [0.37548482],\n",
              "       [0.3741032 ],\n",
              "       [0.37588948],\n",
              "       [0.38210148],\n",
              "       [0.38695008],\n",
              "       [0.3907159 ],\n",
              "       [0.39436513],\n",
              "       [0.38880932],\n",
              "       [0.39190072],\n",
              "       [0.39760602],\n",
              "       [0.39896578],\n",
              "       [0.39921737],\n",
              "       [0.40120053],\n",
              "       [0.40238166],\n",
              "       [0.39974594],\n",
              "       [0.39973867],\n",
              "       [0.39382195],\n",
              "       [0.39672744],\n",
              "       [0.39969492],\n",
              "       [0.39663267],\n",
              "       [0.3945583 ],\n",
              "       [0.43768156],\n",
              "       [0.4336714 ],\n",
              "       [0.42846924],\n",
              "       [0.42538512],\n",
              "       [0.42258894],\n",
              "       [0.41711336],\n",
              "       [0.40192235],\n",
              "       [0.40834945],\n",
              "       [0.40982223],\n",
              "       [0.42105418],\n",
              "       [0.41493332],\n",
              "       [0.41008472],\n",
              "       [0.4183091 ],\n",
              "       [0.40628606],\n",
              "       [0.40736878],\n",
              "       [0.4111383 ],\n",
              "       [0.41873926],\n",
              "       [0.41299385],\n",
              "       [0.41611445],\n",
              "       [0.41548747],\n",
              "       [0.4015469 ],\n",
              "       [0.40796304],\n",
              "       [0.4075802 ],\n",
              "       [0.4087395 ],\n",
              "       [0.41669774],\n",
              "       [0.4149661 ],\n",
              "       [0.40778077],\n",
              "       [0.41252726],\n",
              "       [0.42345297],\n",
              "       [0.42110157],\n",
              "       [0.42091203],\n",
              "       [0.42149162],\n",
              "       [0.42665738],\n",
              "       [0.43179035],\n",
              "       [0.43372613],\n",
              "       [0.4307149 ],\n",
              "       [0.4299311 ],\n",
              "       [0.43111956],\n",
              "       [0.43341625],\n",
              "       [0.43021548],\n",
              "       [0.43171012],\n",
              "       [0.42614335],\n",
              "       [0.43626344],\n",
              "       [0.43439323],\n",
              "       [0.428451  ],\n",
              "       [0.42623085],\n",
              "       [0.42116356],\n",
              "       [0.41078466],\n",
              "       [0.4148677 ],\n",
              "       [0.4225853 ],\n",
              "       [0.42210412],\n",
              "       [0.41534162],\n",
              "       [0.42014647],\n",
              "       [0.42246503],\n",
              "       [0.42493665],\n",
              "       [0.4255528 ],\n",
              "       [0.43498385],\n",
              "       [0.4352135 ],\n",
              "       [0.4386512 ],\n",
              "       [0.43588793],\n",
              "       [0.43612856],\n",
              "       [0.43490726],\n",
              "       [0.44086045],\n",
              "       [0.4415385 ],\n",
              "       [0.44304776],\n",
              "       [0.45211428],\n",
              "       [0.44213277],\n",
              "       [0.4416479 ],\n",
              "       [0.44121772],\n",
              "       [0.4461866 ],\n",
              "       [0.4526137 ],\n",
              "       [0.45285434],\n",
              "       [0.45277047],\n",
              "       [0.45898974],\n",
              "       [0.4599048 ],\n",
              "       [0.45546448],\n",
              "       [0.45532238],\n",
              "       [0.45503068],\n",
              "       [0.45993757],\n",
              "       [0.46847183],\n",
              "       [0.46330607],\n",
              "       [0.4613958 ],\n",
              "       [0.4568717 ],\n",
              "       [0.45625192],\n",
              "       [0.45406097],\n",
              "       [0.45819867],\n",
              "       [0.46069956],\n",
              "       [0.46049535],\n",
              "       [0.457568  ],\n",
              "       [0.45208508],\n",
              "       [0.4540391 ],\n",
              "       [0.46324778],\n",
              "       [0.46601474],\n",
              "       [0.470568  ],\n",
              "       [0.4716398 ],\n",
              "       [0.47204083],\n",
              "       [0.47217208],\n",
              "       [0.474086  ],\n",
              "       [0.47319645],\n",
              "       [0.47805965],\n",
              "       [0.47585404],\n",
              "       [0.47494268],\n",
              "       [0.4761895 ],\n",
              "       [0.4738381 ],\n",
              "       [0.47356462],\n",
              "       [0.4716398 ],\n",
              "       [0.4777789 ],\n",
              "       [0.47467655],\n",
              "       [0.46893483],\n",
              "       [0.46925563],\n",
              "       [0.48031986],\n",
              "       [0.47787374],\n",
              "       [0.4901045 ],\n",
              "       [0.48978734],\n",
              "       [0.49379015],\n",
              "       [0.49944443],\n",
              "       [0.5030535 ],\n",
              "       [0.50651675],\n",
              "       [0.50347275],\n",
              "       [0.50650585],\n",
              "       [0.51106274],\n",
              "       [0.52152187],\n",
              "       [0.52298373],\n",
              "       [0.5235488 ],\n",
              "       [0.523804  ],\n",
              "       [0.51653475],\n",
              "       [0.5045737 ],\n",
              "       [0.5113763 ],\n",
              "       [0.51358914],\n",
              "       [0.51257205],\n",
              "       [0.504694  ],\n",
              "       [0.52354515],\n",
              "       [0.50937486],\n",
              "       [0.50979775],\n",
              "       [0.5200053 ],\n",
              "       [0.521099  ],\n",
              "       [0.53183514],\n",
              "       [0.53187525],\n",
              "       [0.5353312 ],\n",
              "       [0.5340152 ],\n",
              "       [0.53623164],\n",
              "       [0.5358416 ],\n",
              "       [0.5384007 ],\n",
              "       [0.53528744],\n",
              "       [0.52324253],\n",
              "       [0.500086  ],\n",
              "       [0.48800468],\n",
              "       [0.48972905],\n",
              "       [0.4623546 ],\n",
              "       [0.47009772],\n",
              "       [0.4882453 ],\n",
              "       [0.47084874],\n",
              "       [0.4873011 ],\n",
              "       [0.46270096],\n",
              "       [0.45518017],\n",
              "       [0.42497683],\n",
              "       [0.4486109 ],\n",
              "       [0.4249221 ],\n",
              "       [0.3882844 ],\n",
              "       [0.42649698],\n",
              "       [0.37713623],\n",
              "       [0.39006704],\n",
              "       [0.38168228],\n",
              "       [0.3884229 ],\n",
              "       [0.3727579 ],\n",
              "       [0.36703444],\n",
              "       [0.39541137],\n",
              "       [0.38375658],\n",
              "       [0.4053601 ],\n",
              "       [0.3867532 ],\n",
              "       [0.39991724],\n",
              "       [0.40574652],\n",
              "       [0.38489765],\n",
              "       [0.39044613],\n",
              "       [0.38207597],\n",
              "       [0.41453594],\n",
              "       [0.41438645],\n",
              "       [0.42305195],\n",
              "       [0.42347848],\n",
              "       [0.4257059 ],\n",
              "       [0.44454247],\n",
              "       [0.44207805],\n",
              "       [0.4424426 ],\n",
              "       [0.4496535 ],\n",
              "       [0.4435873 ],\n",
              "       [0.42526114],\n",
              "       [0.44234782],\n",
              "       [0.44712353],\n",
              "       [0.4482172 ],\n",
              "       [0.44696677],\n",
              "       [0.43157887],\n",
              "       [0.47088152],\n",
              "       [0.47349906],\n",
              "       [0.4632733 ],\n",
              "       [0.46552992],\n",
              "       [0.47439218],\n",
              "       [0.47300327],\n",
              "       [0.48221195],\n",
              "       [0.48797554],\n",
              "       [0.49340373],\n",
              "       [0.4833712 ],\n",
              "       [0.47374326],\n",
              "       [0.47622228],\n",
              "       [0.48244154],\n",
              "       [0.48636055],\n",
              "       [0.48254913],\n",
              "       [0.4946651 ],\n",
              "       [0.49323606],\n",
              "       [0.496014  ],\n",
              "       [0.49842006],\n",
              "       [0.49871898],\n",
              "       [0.49831432],\n",
              "       [0.50275826],\n",
              "       [0.5038154 ],\n",
              "       [0.5065131 ],\n",
              "       [0.5054778 ],\n",
              "       [0.49665558],\n",
              "       [0.50621057],\n",
              "       [0.5092072 ],\n",
              "       [0.5126887 ],\n",
              "       [0.5162212 ],\n",
              "       [0.4936152 ],\n",
              "       [0.49702018],\n",
              "       [0.4994517 ],\n",
              "       [0.5077891 ],\n",
              "       [0.5108513 ],\n",
              "       [0.50532466],\n",
              "       [0.503779  ],\n",
              "       [0.5111211 ],\n",
              "       [0.5156963 ],\n",
              "       [0.5038701 ],\n",
              "       [0.5072823 ],\n",
              "       [0.47759664],\n",
              "       [0.4903816 ],\n",
              "       [0.4971769 ],\n",
              "       [0.506083  ],\n",
              "       [0.51580197],\n",
              "       [0.5271032 ],\n",
              "       [0.5232681 ],\n",
              "       [0.52721256],\n",
              "       [0.53267723],\n",
              "       [0.5438873 ],\n",
              "       [0.53280485],\n",
              "       [0.5361733 ],\n",
              "       [0.5336433 ],\n",
              "       [0.5352328 ],\n",
              "       [0.5343396 ],\n",
              "       [0.5526293 ],\n",
              "       [0.5499681 ],\n",
              "       [0.5536392 ],\n",
              "       [0.53438705],\n",
              "       [0.532998  ],\n",
              "       [0.5396803 ],\n",
              "       [0.5287947 ],\n",
              "       [0.5366983 ],\n",
              "       [0.54013604],\n",
              "       [0.52245873],\n",
              "       [0.51935637],\n",
              "       [0.51590043],\n",
              "       [0.5190502 ],\n",
              "       [0.5287072 ],\n",
              "       [0.5266621 ],\n",
              "       [0.52724904],\n",
              "       [0.52149636],\n",
              "       [0.5310841 ],\n",
              "       [0.5353968 ],\n",
              "       [0.5314888 ],\n",
              "       [0.53522545],\n",
              "       [0.5500337 ],\n",
              "       [0.5459981 ],\n",
              "       [0.55847317],\n",
              "       [0.5579883 ],\n",
              "       [0.5608245 ],\n",
              "       [0.5681229 ],\n",
              "       [0.58422166],\n",
              "       [0.5776414 ],\n",
              "       [0.5813162 ],\n",
              "       [0.57758677],\n",
              "       [0.5872584 ],\n",
              "       [0.6118914 ],\n",
              "       [0.58037925],\n",
              "       [0.56185985],\n",
              "       [0.5404787 ],\n",
              "       [0.5494358 ],\n",
              "       [0.5403438 ],\n",
              "       [0.53622437],\n",
              "       [0.5356994 ],\n",
              "       [0.54377794],\n",
              "       [0.53629   ],\n",
              "       [0.52704126],\n",
              "       [0.51408494],\n",
              "       [0.50357485],\n",
              "       [0.51607907],\n",
              "       [0.49776018],\n",
              "       [0.50252855],\n",
              "       [0.50860566],\n",
              "       [0.5157364 ],\n",
              "       [0.51748985],\n",
              "       [0.5175883 ],\n",
              "       [0.52505803],\n",
              "       [0.5135126 ],\n",
              "       [0.5235743 ],\n",
              "       [0.5116971 ],\n",
              "       [0.5141943 ],\n",
              "       [0.5235415 ],\n",
              "       [0.5342193 ],\n",
              "       [0.55387974],\n",
              "       [0.5548021 ],\n",
              "       [0.5534897 ],\n",
              "       [0.5502269 ],\n",
              "       [0.55528694],\n",
              "       [0.541288  ],\n",
              "       [0.54906034],\n",
              "       [0.5626874 ],\n",
              "       [0.5707149 ],\n",
              "       [0.580073  ],\n",
              "       [0.56164473],\n",
              "       [0.5666793 ],\n",
              "       [0.53472966],\n",
              "       [0.55318344],\n",
              "       [0.57278556],\n",
              "       [0.57461566],\n",
              "       [0.5834305 ],\n",
              "       [0.61949235],\n",
              "       [0.6246836 ],\n",
              "       [0.624093  ],\n",
              "       [0.62454873],\n",
              "       [0.6163061 ],\n",
              "       [0.62079746],\n",
              "       [0.61975116],\n",
              "       [0.6296598 ],\n",
              "       [0.63124925],\n",
              "       [0.6271553 ],\n",
              "       [0.61863565],\n",
              "       [0.6248841 ],\n",
              "       [0.6169623 ],\n",
              "       [0.6142901 ],\n",
              "       [0.6266923 ],\n",
              "       [0.62762195],\n",
              "       [0.6355546 ],\n",
              "       [0.6237248 ],\n",
              "       [0.6373446 ],\n",
              "       [0.64822656],\n",
              "       [0.6477964 ],\n",
              "       [0.6482411 ],\n",
              "       [0.64513874],\n",
              "       [0.64479977],\n",
              "       [0.63225174],\n",
              "       [0.62904364],\n",
              "       [0.6313914 ],\n",
              "       [0.6234769 ],\n",
              "       [0.62628764],\n",
              "       [0.62454873],\n",
              "       [0.61904395],\n",
              "       [0.6128866 ],\n",
              "       [0.61593425],\n",
              "       [0.6101488 ],\n",
              "       [0.61338603],\n",
              "       [0.6157447 ],\n",
              "       [0.62932074],\n",
              "       [0.6229884 ],\n",
              "       [0.61598897],\n",
              "       [0.62049484],\n",
              "       [0.6118768 ],\n",
              "       [0.61649936],\n",
              "       [0.61444694],\n",
              "       [0.6333892 ],\n",
              "       [0.64066565],\n",
              "       [0.62590486],\n",
              "       [0.6185518 ],\n",
              "       [0.6214135 ],\n",
              "       [0.6162296 ],\n",
              "       [0.614775  ],\n",
              "       [0.6347052 ],\n",
              "       [0.6697171 ],\n",
              "       [0.67130286],\n",
              "       [0.6748755 ],\n",
              "       [0.674274  ],\n",
              "       [0.68077767],\n",
              "       [0.6492619 ],\n",
              "       [0.6610443 ],\n",
              "       [0.6510664 ],\n",
              "       [0.6749849 ],\n",
              "       [0.6845216 ],\n",
              "       [0.7364926 ],\n",
              "       [0.73368555],\n",
              "       [0.7466746 ],\n",
              "       [0.744819  ],\n",
              "       [0.7413922 ],\n",
              "       [0.74571943],\n",
              "       [0.74590534],\n",
              "       [0.748902  ],\n",
              "       [0.7553874 ],\n",
              "       [0.7577243 ],\n",
              "       [0.75367403],\n",
              "       [0.74781924],\n",
              "       [0.7346005 ],\n",
              "       [0.7367806 ],\n",
              "       [0.74564284],\n",
              "       [0.72238064],\n",
              "       [0.7243857 ],\n",
              "       [0.74066305],\n",
              "       [0.7385961 ],\n",
              "       [0.7206855 ],\n",
              "       [0.7288442 ],\n",
              "       [0.750517  ],\n",
              "       [0.7197595 ],\n",
              "       [0.73016024],\n",
              "       [0.73100966],\n",
              "       [0.7527882 ],\n",
              "       [0.7335214 ],\n",
              "       [0.7351875 ],\n",
              "       [0.7446768 ],\n",
              "       [0.7441519 ],\n",
              "       [0.7241524 ],\n",
              "       [0.72669697],\n",
              "       [0.72501636],\n",
              "       [0.730255  ],\n",
              "       [0.7273751 ],\n",
              "       [0.72711986],\n",
              "       [0.7239081 ],\n",
              "       [0.73134506],\n",
              "       [0.7311956 ],\n",
              "       [0.7359676 ],\n",
              "       [0.7611656 ],\n",
              "       [0.79317355],\n",
              "       [0.7928819 ],\n",
              "       [0.80197024],\n",
              "       [0.80771565],\n",
              "       [0.8151671 ],\n",
              "       [0.8038331 ],\n",
              "       [0.8083828 ],\n",
              "       [0.8038514 ],\n",
              "       [0.81909704],\n",
              "       [0.81949806],\n",
              "       [0.8211896 ],\n",
              "       [0.8179924 ],\n",
              "       [0.81786853],\n",
              "       [0.80861974],\n",
              "       [0.8258924 ],\n",
              "       [0.83006287],\n",
              "       [0.8229103 ],\n",
              "       [0.8494462 ],\n",
              "       [0.86766666],\n",
              "       [0.8604595 ],\n",
              "       [0.8550093 ],\n",
              "       [0.84009176],\n",
              "       [0.8409995 ],\n",
              "       [0.84997123],\n",
              "       [0.85629255],\n",
              "       [0.83550197],\n",
              "       [0.82350814],\n",
              "       [0.798106  ],\n",
              "       [0.8064506 ],\n",
              "       [0.82620585],\n",
              "       [0.82811975],\n",
              "       [0.82156503],\n",
              "       [0.8234899 ],\n",
              "       [0.84076256],\n",
              "       [0.8367561 ],\n",
              "       [0.85920167],\n",
              "       [0.86007667],\n",
              "       [0.8689937 ],\n",
              "       [0.8576852 ],\n",
              "       [0.86098444],\n",
              "       [0.8676376 ],\n",
              "       [0.8645279 ],\n",
              "       [0.8584508 ],\n",
              "       [0.8756395 ],\n",
              "       [0.8808636 ],\n",
              "       [0.88697356],\n",
              "       [0.8900904 ],\n",
              "       [0.90110004],\n",
              "       [0.89830387],\n",
              "       [0.9030832 ],\n",
              "       [0.9007573 ],\n",
              "       [0.89830387],\n",
              "       [0.90322167],\n",
              "       [0.89736336],\n",
              "       [0.9038342 ],\n",
              "       [0.9078042 ],\n",
              "       [0.90388155],\n",
              "       [0.9098639 ],\n",
              "       [0.90777135],\n",
              "       [0.90649176],\n",
              "       [0.90065163],\n",
              "       [0.8955296 ],\n",
              "       [0.90320355],\n",
              "       [0.9203412 ],\n",
              "       [0.9280114 ],\n",
              "       [0.9302462 ],\n",
              "       [0.92368054],\n",
              "       [0.92657876],\n",
              "       [0.9337933 ],\n",
              "       [0.9369321 ],\n",
              "       [0.9448648 ],\n",
              "       [0.9389153 ],\n",
              "       [0.9431368 ],\n",
              "       [0.92424196],\n",
              "       [0.93771225],\n",
              "       [0.9486416 ],\n",
              "       [0.9539496 ],\n",
              "       [0.9866684 ],\n",
              "       [1.        ],\n",
              "       [0.97923505],\n",
              "       [0.9762092 ],\n",
              "       [0.97736853],\n",
              "       [0.9677479 ],\n",
              "       [0.9733512 ],\n",
              "       [0.97546923],\n",
              "       [0.9736355 ],\n",
              "       [0.98028135],\n",
              "       [0.9809813 ],\n",
              "       [0.98802453],\n",
              "       [0.98871344],\n",
              "       [0.98574597],\n",
              "       [0.9908498 ],\n",
              "       [0.9909701 ]], dtype=float32)"
            ]
          },
          "metadata": {},
          "execution_count": 17
        }
      ]
    },
    {
      "cell_type": "code",
      "metadata": {
        "colab": {
          "base_uri": "https://localhost:8080/"
        },
        "id": "yWC62BY7wOBF",
        "outputId": "5c050537-dac4-4b3d-aa04-c8117a624f44"
      },
      "source": [
        "len(inputs)"
      ],
      "execution_count": null,
      "outputs": [
        {
          "output_type": "execute_result",
          "data": {
            "text/plain": [
              "976"
            ]
          },
          "metadata": {},
          "execution_count": 18
        }
      ]
    },
    {
      "cell_type": "code",
      "metadata": {
        "id": "SmvktYjRwBKC"
      },
      "source": [
        "X_test = []\n",
        "for i in range(120,976):\n",
        "    X_test.append(inputs[i-120:i, 0])\n",
        "X_test = np.array(X_test)\n"
      ],
      "execution_count": null,
      "outputs": []
    },
    {
      "cell_type": "code",
      "metadata": {
        "colab": {
          "base_uri": "https://localhost:8080/"
        },
        "id": "J73Cmdicxv2I",
        "outputId": "00ee8438-8711-463d-c594-38ea7276efef"
      },
      "source": [
        "X_test.shape"
      ],
      "execution_count": null,
      "outputs": [
        {
          "output_type": "execute_result",
          "data": {
            "text/plain": [
              "(856, 120)"
            ]
          },
          "metadata": {},
          "execution_count": 20
        }
      ]
    },
    {
      "cell_type": "markdown",
      "metadata": {
        "id": "Gsm5CzRiMrgf"
      },
      "source": [
        "### making prediction"
      ]
    },
    {
      "cell_type": "code",
      "metadata": {
        "id": "e5rLxFARxn8y"
      },
      "source": [
        "X_test = np.reshape(X_test, (X_test.shape[0], X_test.shape[1], 1))\n",
        "predicted_stock_price = model.predict(X_test)\n",
        "predicted_stock_price = scaler.inverse_transform(predicted_stock_price)"
      ],
      "execution_count": null,
      "outputs": []
    },
    {
      "cell_type": "markdown",
      "metadata": {
        "id": "_UuAKZ8zL99m"
      },
      "source": [
        "### Real stock price vs Prediction of stock price for last 850 days"
      ]
    },
    {
      "cell_type": "code",
      "metadata": {
        "colab": {
          "base_uri": "https://localhost:8080/",
          "height": 638
        },
        "id": "mThM4WZf5XdU",
        "outputId": "c705c00c-f729-4aa2-d575-29cb4c439ff5"
      },
      "source": [
        "plt.figure(figsize=(16,10))\n",
        "plt.plot(scaler.inverse_transform(df[len(df)-len(test):,:]), label = 'Actual Data')\n",
        "plt.title('Stock Price Prediction for previous 850 days')\n",
        "plt.xlabel('no. of days')\n",
        "plt.ylabel('Stock Price')\n",
        "plt.plot(predicted_stock_price, color='green', label = 'Test Predicted Data')\n",
        "\n",
        "plt.legend(loc='best')\n",
        "plt.show"
      ],
      "execution_count": null,
      "outputs": [
        {
          "output_type": "execute_result",
          "data": {
            "text/plain": [
              "<function matplotlib.pyplot.show>"
            ]
          },
          "metadata": {},
          "execution_count": 22
        },
        {
          "output_type": "display_data",
          "data": {
            "image/png": "[encoded data removed]",
            "text/plain": [
              "<Figure size 1152x720 with 1 Axes>"
            ]
          },
          "metadata": {
            "needs_background": "light"
          }
        }
      ]
    },
    {
      "cell_type": "markdown",
      "metadata": {
        "id": "oxhdP-lIMzZM"
      },
      "source": [
        "# Part 2 - Textual Data(News Headlines) Analysis"
      ]
    },
    {
      "cell_type": "markdown",
      "metadata": {
        "id": "42OXEpjeNDmy"
      },
      "source": [
        "## Importing the Dataset"
      ]
    },
    {
      "cell_type": "code",
      "metadata": {
        "id": "yUInyCvnKs1t"
      },
      "source": [
        "from textblob import TextBlob\n",
        "from datetime import datetime"
      ],
      "execution_count": null,
      "outputs": []
    },
    {
      "cell_type": "code",
      "metadata": {
        "colab": {
          "base_uri": "https://localhost:8080/",
          "height": 203
        },
        "id": "4poiYIf40q2D",
        "outputId": "f6848823-93d0-44f6-bab1-4f9b3bb53478"
      },
      "source": [
        "data = pd.read_csv('/content/drive/MyDrive/The Sparks foundation /task 7/india-news-headlines.csv')\n",
        "data.head()"
      ],
      "execution_count": null,
      "outputs": [
        {
          "output_type": "execute_result",
          "data": {
            "text/html": [
              "<div>\n",
              "<style scoped>\n",
              "    .dataframe tbody tr th:only-of-type {\n",
              "        vertical-align: middle;\n",
              "    }\n",
              "\n",
              "    .dataframe tbody tr th {\n",
              "        vertical-align: top;\n",
              "    }\n",
              "\n",
              "    .dataframe thead th {\n",
              "        text-align: right;\n",
              "    }\n",
              "</style>\n",
              "<table border=\"1\" class=\"dataframe\">\n",
              "  <thead>\n",
              "    <tr style=\"text-align: right;\">\n",
              "      <th></th>\n",
              "      <th>publish_date</th>\n",
              "      <th>headline_category</th>\n",
              "      <th>headline_text</th>\n",
              "    </tr>\n",
              "  </thead>\n",
              "  <tbody>\n",
              "    <tr>\n",
              "      <th>0</th>\n",
              "      <td>20010102</td>\n",
              "      <td>unknown</td>\n",
              "      <td>Status quo will not be disturbed at Ayodhya; s...</td>\n",
              "    </tr>\n",
              "    <tr>\n",
              "      <th>1</th>\n",
              "      <td>20010102</td>\n",
              "      <td>unknown</td>\n",
              "      <td>Fissures in Hurriyat over Pak visit</td>\n",
              "    </tr>\n",
              "    <tr>\n",
              "      <th>2</th>\n",
              "      <td>20010102</td>\n",
              "      <td>unknown</td>\n",
              "      <td>America's unwanted heading for India?</td>\n",
              "    </tr>\n",
              "    <tr>\n",
              "      <th>3</th>\n",
              "      <td>20010102</td>\n",
              "      <td>unknown</td>\n",
              "      <td>For bigwigs; it is destination Goa</td>\n",
              "    </tr>\n",
              "    <tr>\n",
              "      <th>4</th>\n",
              "      <td>20010102</td>\n",
              "      <td>unknown</td>\n",
              "      <td>Extra buses to clear tourist traffic</td>\n",
              "    </tr>\n",
              "  </tbody>\n",
              "</table>\n",
              "</div>"
            ],
            "text/plain": [
              "   publish_date  ...                                      headline_text\n",
              "0      20010102  ...  Status quo will not be disturbed at Ayodhya; s...\n",
              "1      20010102  ...                Fissures in Hurriyat over Pak visit\n",
              "2      20010102  ...              America's unwanted heading for India?\n",
              "3      20010102  ...                 For bigwigs; it is destination Goa\n",
              "4      20010102  ...               Extra buses to clear tourist traffic\n",
              "\n",
              "[5 rows x 3 columns]"
            ]
          },
          "metadata": {},
          "execution_count": 24
        }
      ]
    },
    {
      "cell_type": "code",
      "metadata": {
        "colab": {
          "base_uri": "https://localhost:8080/",
          "height": 203
        },
        "id": "NbMacYV-03Zn",
        "outputId": "e191af96-9961-4b10-ad98-bd8512f6a8d1"
      },
      "source": [
        "data.tail()"
      ],
      "execution_count": null,
      "outputs": [
        {
          "output_type": "execute_result",
          "data": {
            "text/html": [
              "<div>\n",
              "<style scoped>\n",
              "    .dataframe tbody tr th:only-of-type {\n",
              "        vertical-align: middle;\n",
              "    }\n",
              "\n",
              "    .dataframe tbody tr th {\n",
              "        vertical-align: top;\n",
              "    }\n",
              "\n",
              "    .dataframe thead th {\n",
              "        text-align: right;\n",
              "    }\n",
              "</style>\n",
              "<table border=\"1\" class=\"dataframe\">\n",
              "  <thead>\n",
              "    <tr style=\"text-align: right;\">\n",
              "      <th></th>\n",
              "      <th>publish_date</th>\n",
              "      <th>headline_category</th>\n",
              "      <th>headline_text</th>\n",
              "    </tr>\n",
              "  </thead>\n",
              "  <tbody>\n",
              "    <tr>\n",
              "      <th>3424062</th>\n",
              "      <td>20201231</td>\n",
              "      <td>city.jodhpur</td>\n",
              "      <td>Covid-19: Despite dip in cases; Rajasthan amon...</td>\n",
              "    </tr>\n",
              "    <tr>\n",
              "      <th>3424063</th>\n",
              "      <td>20201231</td>\n",
              "      <td>city.udaipur</td>\n",
              "      <td>Covid-19: Despite dip in cases; Rajasthan amon...</td>\n",
              "    </tr>\n",
              "    <tr>\n",
              "      <th>3424064</th>\n",
              "      <td>20201231</td>\n",
              "      <td>city.ajmer</td>\n",
              "      <td>Covid-19: Despite dip in cases; Rajasthan amon...</td>\n",
              "    </tr>\n",
              "    <tr>\n",
              "      <th>3424065</th>\n",
              "      <td>20201231</td>\n",
              "      <td>removed</td>\n",
              "      <td>Govt extends deadline for use of FASTag till F...</td>\n",
              "    </tr>\n",
              "    <tr>\n",
              "      <th>3424066</th>\n",
              "      <td>20201231</td>\n",
              "      <td>entertainment.bengali.movies.news</td>\n",
              "      <td>Celebs plan to party safely and responsibly on...</td>\n",
              "    </tr>\n",
              "  </tbody>\n",
              "</table>\n",
              "</div>"
            ],
            "text/plain": [
              "         publish_date  ...                                      headline_text\n",
              "3424062      20201231  ...  Covid-19: Despite dip in cases; Rajasthan amon...\n",
              "3424063      20201231  ...  Covid-19: Despite dip in cases; Rajasthan amon...\n",
              "3424064      20201231  ...  Covid-19: Despite dip in cases; Rajasthan amon...\n",
              "3424065      20201231  ...  Govt extends deadline for use of FASTag till F...\n",
              "3424066      20201231  ...  Celebs plan to party safely and responsibly on...\n",
              "\n",
              "[5 rows x 3 columns]"
            ]
          },
          "metadata": {},
          "execution_count": 25
        }
      ]
    },
    {
      "cell_type": "markdown",
      "metadata": {
        "id": "7Qc7j2CsNMHu"
      },
      "source": [
        "## Data Preprocessing"
      ]
    },
    {
      "cell_type": "code",
      "metadata": {
        "colab": {
          "base_uri": "https://localhost:8080/"
        },
        "id": "cdV3XIrc09Hj",
        "outputId": "ab9acbe2-f477-4cf9-8b84-0fe7ccf1ffc7"
      },
      "source": [
        "data['publish_date'].duplicated()"
      ],
      "execution_count": null,
      "outputs": [
        {
          "output_type": "execute_result",
          "data": {
            "text/plain": [
              "0          False\n",
              "1           True\n",
              "2           True\n",
              "3           True\n",
              "4           True\n",
              "           ...  \n",
              "3424062     True\n",
              "3424063     True\n",
              "3424064     True\n",
              "3424065     True\n",
              "3424066     True\n",
              "Name: publish_date, Length: 3424067, dtype: bool"
            ]
          },
          "metadata": {},
          "execution_count": 26
        }
      ]
    },
    {
      "cell_type": "markdown",
      "metadata": {
        "id": "S2XXKPa1NaOO"
      },
      "source": [
        "### Removing duplicates"
      ]
    },
    {
      "cell_type": "code",
      "metadata": {
        "id": "9VbSenOl0_9v"
      },
      "source": [
        "\n",
        "data = data.drop_duplicates('publish_date', keep='first').sort_index()\n",
        "data= data.reset_index()"
      ],
      "execution_count": null,
      "outputs": []
    },
    {
      "cell_type": "code",
      "metadata": {
        "colab": {
          "base_uri": "https://localhost:8080/",
          "height": 203
        },
        "id": "8jyFYD8y1DgY",
        "outputId": "35b45d28-d23f-4248-cb4d-36538944f554"
      },
      "source": [
        "data.rename(columns={'publish_date': 'Date'},inplace = True)\n",
        "data.head()"
      ],
      "execution_count": null,
      "outputs": [
        {
          "output_type": "execute_result",
          "data": {
            "text/html": [
              "<div>\n",
              "<style scoped>\n",
              "    .dataframe tbody tr th:only-of-type {\n",
              "        vertical-align: middle;\n",
              "    }\n",
              "\n",
              "    .dataframe tbody tr th {\n",
              "        vertical-align: top;\n",
              "    }\n",
              "\n",
              "    .dataframe thead th {\n",
              "        text-align: right;\n",
              "    }\n",
              "</style>\n",
              "<table border=\"1\" class=\"dataframe\">\n",
              "  <thead>\n",
              "    <tr style=\"text-align: right;\">\n",
              "      <th></th>\n",
              "      <th>index</th>\n",
              "      <th>Date</th>\n",
              "      <th>headline_category</th>\n",
              "      <th>headline_text</th>\n",
              "    </tr>\n",
              "  </thead>\n",
              "  <tbody>\n",
              "    <tr>\n",
              "      <th>0</th>\n",
              "      <td>0</td>\n",
              "      <td>20010102</td>\n",
              "      <td>unknown</td>\n",
              "      <td>Status quo will not be disturbed at Ayodhya; s...</td>\n",
              "    </tr>\n",
              "    <tr>\n",
              "      <th>1</th>\n",
              "      <td>86</td>\n",
              "      <td>20010103</td>\n",
              "      <td>unknown</td>\n",
              "      <td>Powerless north India gropes in the dark</td>\n",
              "    </tr>\n",
              "    <tr>\n",
              "      <th>2</th>\n",
              "      <td>127</td>\n",
              "      <td>20010104</td>\n",
              "      <td>unknown</td>\n",
              "      <td>The string that pulled Stephen Hawking to India</td>\n",
              "    </tr>\n",
              "    <tr>\n",
              "      <th>3</th>\n",
              "      <td>280</td>\n",
              "      <td>20010105</td>\n",
              "      <td>unknown</td>\n",
              "      <td>Light combat craft takes India into club class</td>\n",
              "    </tr>\n",
              "    <tr>\n",
              "      <th>4</th>\n",
              "      <td>406</td>\n",
              "      <td>20010106</td>\n",
              "      <td>unknown</td>\n",
              "      <td>Light combat craft takes India into club class</td>\n",
              "    </tr>\n",
              "  </tbody>\n",
              "</table>\n",
              "</div>"
            ],
            "text/plain": [
              "   index  ...                                      headline_text\n",
              "0      0  ...  Status quo will not be disturbed at Ayodhya; s...\n",
              "1     86  ...           Powerless north India gropes in the dark\n",
              "2    127  ...    The string that pulled Stephen Hawking to India\n",
              "3    280  ...     Light combat craft takes India into club class\n",
              "4    406  ...     Light combat craft takes India into club class\n",
              "\n",
              "[5 rows x 4 columns]"
            ]
          },
          "metadata": {},
          "execution_count": 28
        }
      ]
    },
    {
      "cell_type": "markdown",
      "metadata": {
        "id": "3vrhwHfONWWa"
      },
      "source": [
        "### coverting the column 'Date' to type 'datetime'"
      ]
    },
    {
      "cell_type": "code",
      "metadata": {
        "id": "cEm_Lc7P9kDW"
      },
      "source": [
        "# dropping duplicates\n",
        "data = data.drop_duplicates()\n",
        "\n",
        "# coverting the column 'Date' to type 'datetime'\n",
        "data['Date'] = data['Date'].astype(str)\n",
        "data['Date'] = data['Date'].apply(lambda x: x[0:4]+'-'+x[4:6]+'-'+x[6:8])\n",
        "data['Date'] = pd.to_datetime(data['Date']).dt.normalize()"
      ],
      "execution_count": null,
      "outputs": []
    },
    {
      "cell_type": "code",
      "metadata": {
        "colab": {
          "base_uri": "https://localhost:8080/"
        },
        "id": "fwzK6Sty1GcH",
        "outputId": "4ae97e8d-0919-4359-ed08-1dea2c1089c0"
      },
      "source": [
        "data.info()"
      ],
      "execution_count": null,
      "outputs": [
        {
          "output_type": "stream",
          "text": [
            "<class 'pandas.core.frame.DataFrame'>\n",
            "Int64Index: 7262 entries, 0 to 7261\n",
            "Data columns (total 4 columns):\n",
            " #   Column             Non-Null Count  Dtype         \n",
            "---  ------             --------------  -----         \n",
            " 0   index              7262 non-null   int64         \n",
            " 1   Date               7262 non-null   datetime64[ns]\n",
            " 2   headline_category  7262 non-null   object        \n",
            " 3   headline_text      7262 non-null   object        \n",
            "dtypes: datetime64[ns](1), int64(1), object(2)\n",
            "memory usage: 283.7+ KB\n"
          ],
          "name": "stdout"
        }
      ]
    },
    {
      "cell_type": "code",
      "metadata": {
        "colab": {
          "base_uri": "https://localhost:8080/"
        },
        "id": "SDhDF0bD1Lp1",
        "outputId": "d0951ef5-f610-40ce-eb56-923180582e78"
      },
      "source": [
        "data['headline_category'].value_counts()"
      ],
      "execution_count": null,
      "outputs": [
        {
          "output_type": "execute_result",
          "data": {
            "text/plain": [
              "unknown                                 987\n",
              "entertainment.hindi.bollywood           727\n",
              "india                                   342\n",
              "life-style.relationships.man-woman      332\n",
              "edit-page                               256\n",
              "                                       ... \n",
              "tv.news.malayalam                         1\n",
              "best-products.electronics.headphones      1\n",
              "sports.more-sports.shooting               1\n",
              "city.jammu                                1\n",
              "silver-jubilee                            1\n",
              "Name: headline_category, Length: 324, dtype: int64"
            ]
          },
          "metadata": {},
          "execution_count": 31
        }
      ]
    },
    {
      "cell_type": "markdown",
      "metadata": {
        "id": "vdBLZZAnN0QK"
      },
      "source": [
        "## Representing number of headline text (News Headline) per city"
      ]
    },
    {
      "cell_type": "code",
      "metadata": {
        "colab": {
          "base_uri": "https://localhost:8080/",
          "height": 417
        },
        "id": "SdQy5nhV1NkB",
        "outputId": "2c0d5eae-3ab1-4a6a-cf12-c901101ee7f9"
      },
      "source": [
        "city_data = data[data['headline_category'].str.contains('^city\\.[a-z]+$', regex=True)]\n",
        "city_data"
      ],
      "execution_count": null,
      "outputs": [
        {
          "output_type": "execute_result",
          "data": {
            "text/html": [
              "<div>\n",
              "<style scoped>\n",
              "    .dataframe tbody tr th:only-of-type {\n",
              "        vertical-align: middle;\n",
              "    }\n",
              "\n",
              "    .dataframe tbody tr th {\n",
              "        vertical-align: top;\n",
              "    }\n",
              "\n",
              "    .dataframe thead th {\n",
              "        text-align: right;\n",
              "    }\n",
              "</style>\n",
              "<table border=\"1\" class=\"dataframe\">\n",
              "  <thead>\n",
              "    <tr style=\"text-align: right;\">\n",
              "      <th></th>\n",
              "      <th>index</th>\n",
              "      <th>Date</th>\n",
              "      <th>headline_category</th>\n",
              "      <th>headline_text</th>\n",
              "    </tr>\n",
              "  </thead>\n",
              "  <tbody>\n",
              "    <tr>\n",
              "      <th>8</th>\n",
              "      <td>642</td>\n",
              "      <td>2001-01-10</td>\n",
              "      <td>city.patna</td>\n",
              "      <td>Fend for yourselves; Pande tells doctors</td>\n",
              "    </tr>\n",
              "    <tr>\n",
              "      <th>48</th>\n",
              "      <td>2215</td>\n",
              "      <td>2001-03-09</td>\n",
              "      <td>city.delhi</td>\n",
              "      <td>Maneka asks govt to take back land for cow she...</td>\n",
              "    </tr>\n",
              "    <tr>\n",
              "      <th>114</th>\n",
              "      <td>4563</td>\n",
              "      <td>2001-05-22</td>\n",
              "      <td>city.pune</td>\n",
              "      <td>She turned and fought</td>\n",
              "    </tr>\n",
              "    <tr>\n",
              "      <th>116</th>\n",
              "      <td>4693</td>\n",
              "      <td>2001-05-27</td>\n",
              "      <td>city.bengaluru</td>\n",
              "      <td>Need to boost exports; says bank head</td>\n",
              "    </tr>\n",
              "    <tr>\n",
              "      <th>118</th>\n",
              "      <td>4917</td>\n",
              "      <td>2001-05-29</td>\n",
              "      <td>city.bengaluru</td>\n",
              "      <td>US visit won't be piece of cake for Krishna</td>\n",
              "    </tr>\n",
              "    <tr>\n",
              "      <th>...</th>\n",
              "      <td>...</td>\n",
              "      <td>...</td>\n",
              "      <td>...</td>\n",
              "      <td>...</td>\n",
              "    </tr>\n",
              "    <tr>\n",
              "      <th>7245</th>\n",
              "      <td>3415584</td>\n",
              "      <td>2020-12-15</td>\n",
              "      <td>city.nagpur</td>\n",
              "      <td>1;147 RT-PCR tests in a day; only 3 found +ve ...</td>\n",
              "    </tr>\n",
              "    <tr>\n",
              "      <th>7248</th>\n",
              "      <td>3417083</td>\n",
              "      <td>2020-12-18</td>\n",
              "      <td>city.ahmedabad</td>\n",
              "      <td>Cops; panch witnesses sniffed suspects' mouths...</td>\n",
              "    </tr>\n",
              "    <tr>\n",
              "      <th>7249</th>\n",
              "      <td>3417582</td>\n",
              "      <td>2020-12-19</td>\n",
              "      <td>city.mumbai</td>\n",
              "      <td>Rally champion only crowned if half WRC season...</td>\n",
              "    </tr>\n",
              "    <tr>\n",
              "      <th>7253</th>\n",
              "      <td>3419580</td>\n",
              "      <td>2020-12-23</td>\n",
              "      <td>city.vadodara</td>\n",
              "      <td>Sawmill in Makarpura GIDC gutted; none hurt</td>\n",
              "    </tr>\n",
              "    <tr>\n",
              "      <th>7259</th>\n",
              "      <td>3422570</td>\n",
              "      <td>2020-12-29</td>\n",
              "      <td>city.bareilly</td>\n",
              "      <td>Man recovers charred remains of 'thief' from h...</td>\n",
              "    </tr>\n",
              "  </tbody>\n",
              "</table>\n",
              "<p>1239 rows × 4 columns</p>\n",
              "</div>"
            ],
            "text/plain": [
              "        index  ...                                      headline_text\n",
              "8         642  ...           Fend for yourselves; Pande tells doctors\n",
              "48       2215  ...  Maneka asks govt to take back land for cow she...\n",
              "114      4563  ...                              She turned and fought\n",
              "116      4693  ...              Need to boost exports; says bank head\n",
              "118      4917  ...        US visit won't be piece of cake for Krishna\n",
              "...       ...  ...                                                ...\n",
              "7245  3415584  ...  1;147 RT-PCR tests in a day; only 3 found +ve ...\n",
              "7248  3417083  ...  Cops; panch witnesses sniffed suspects' mouths...\n",
              "7249  3417582  ...  Rally champion only crowned if half WRC season...\n",
              "7253  3419580  ...        Sawmill in Makarpura GIDC gutted; none hurt\n",
              "7259  3422570  ...  Man recovers charred remains of 'thief' from h...\n",
              "\n",
              "[1239 rows x 4 columns]"
            ]
          },
          "metadata": {},
          "execution_count": 32
        }
      ]
    },
    {
      "cell_type": "code",
      "metadata": {
        "id": "4zeyRAJZ1ReB"
      },
      "source": [
        "city_split = pd.DataFrame(columns=['city_name'])"
      ],
      "execution_count": null,
      "outputs": []
    },
    {
      "cell_type": "code",
      "metadata": {
        "id": "3lyacVne1f65"
      },
      "source": [
        "city_split['city_name'] = city_data.headline_category.str.split('.',expand=True)[1]"
      ],
      "execution_count": null,
      "outputs": []
    },
    {
      "cell_type": "code",
      "metadata": {
        "id": "10uDqhVy1oRw"
      },
      "source": [
        "\n",
        "city_data = pd.concat([city_data,city_split],axis=1)"
      ],
      "execution_count": null,
      "outputs": []
    },
    {
      "cell_type": "code",
      "metadata": {
        "id": "qyNg7zkt1zZR"
      },
      "source": [
        "city_data.drop(columns=['headline_category'],axis=1, inplace=True)"
      ],
      "execution_count": null,
      "outputs": []
    },
    {
      "cell_type": "code",
      "metadata": {
        "colab": {
          "base_uri": "https://localhost:8080/",
          "height": 203
        },
        "id": "K_QN5AnD13zV",
        "outputId": "9a6f924a-d8ca-4390-e0f1-926859e610d5"
      },
      "source": [
        "city_data.head()"
      ],
      "execution_count": null,
      "outputs": [
        {
          "output_type": "execute_result",
          "data": {
            "text/html": [
              "<div>\n",
              "<style scoped>\n",
              "    .dataframe tbody tr th:only-of-type {\n",
              "        vertical-align: middle;\n",
              "    }\n",
              "\n",
              "    .dataframe tbody tr th {\n",
              "        vertical-align: top;\n",
              "    }\n",
              "\n",
              "    .dataframe thead th {\n",
              "        text-align: right;\n",
              "    }\n",
              "</style>\n",
              "<table border=\"1\" class=\"dataframe\">\n",
              "  <thead>\n",
              "    <tr style=\"text-align: right;\">\n",
              "      <th></th>\n",
              "      <th>index</th>\n",
              "      <th>Date</th>\n",
              "      <th>headline_text</th>\n",
              "      <th>city_name</th>\n",
              "    </tr>\n",
              "  </thead>\n",
              "  <tbody>\n",
              "    <tr>\n",
              "      <th>8</th>\n",
              "      <td>642</td>\n",
              "      <td>2001-01-10</td>\n",
              "      <td>Fend for yourselves; Pande tells doctors</td>\n",
              "      <td>patna</td>\n",
              "    </tr>\n",
              "    <tr>\n",
              "      <th>48</th>\n",
              "      <td>2215</td>\n",
              "      <td>2001-03-09</td>\n",
              "      <td>Maneka asks govt to take back land for cow she...</td>\n",
              "      <td>delhi</td>\n",
              "    </tr>\n",
              "    <tr>\n",
              "      <th>114</th>\n",
              "      <td>4563</td>\n",
              "      <td>2001-05-22</td>\n",
              "      <td>She turned and fought</td>\n",
              "      <td>pune</td>\n",
              "    </tr>\n",
              "    <tr>\n",
              "      <th>116</th>\n",
              "      <td>4693</td>\n",
              "      <td>2001-05-27</td>\n",
              "      <td>Need to boost exports; says bank head</td>\n",
              "      <td>bengaluru</td>\n",
              "    </tr>\n",
              "    <tr>\n",
              "      <th>118</th>\n",
              "      <td>4917</td>\n",
              "      <td>2001-05-29</td>\n",
              "      <td>US visit won't be piece of cake for Krishna</td>\n",
              "      <td>bengaluru</td>\n",
              "    </tr>\n",
              "  </tbody>\n",
              "</table>\n",
              "</div>"
            ],
            "text/plain": [
              "     index  ...  city_name\n",
              "8      642  ...      patna\n",
              "48    2215  ...      delhi\n",
              "114   4563  ...       pune\n",
              "116   4693  ...  bengaluru\n",
              "118   4917  ...  bengaluru\n",
              "\n",
              "[5 rows x 4 columns]"
            ]
          },
          "metadata": {},
          "execution_count": 37
        }
      ]
    },
    {
      "cell_type": "code",
      "metadata": {
        "colab": {
          "base_uri": "https://localhost:8080/",
          "height": 417
        },
        "id": "LtJA5m3617CJ",
        "outputId": "fa94f54c-d79d-4598-8aba-ff3b185b3a4d"
      },
      "source": [
        "city_data.drop(['index'],axis=1)"
      ],
      "execution_count": null,
      "outputs": [
        {
          "output_type": "execute_result",
          "data": {
            "text/html": [
              "<div>\n",
              "<style scoped>\n",
              "    .dataframe tbody tr th:only-of-type {\n",
              "        vertical-align: middle;\n",
              "    }\n",
              "\n",
              "    .dataframe tbody tr th {\n",
              "        vertical-align: top;\n",
              "    }\n",
              "\n",
              "    .dataframe thead th {\n",
              "        text-align: right;\n",
              "    }\n",
              "</style>\n",
              "<table border=\"1\" class=\"dataframe\">\n",
              "  <thead>\n",
              "    <tr style=\"text-align: right;\">\n",
              "      <th></th>\n",
              "      <th>Date</th>\n",
              "      <th>headline_text</th>\n",
              "      <th>city_name</th>\n",
              "    </tr>\n",
              "  </thead>\n",
              "  <tbody>\n",
              "    <tr>\n",
              "      <th>8</th>\n",
              "      <td>2001-01-10</td>\n",
              "      <td>Fend for yourselves; Pande tells doctors</td>\n",
              "      <td>patna</td>\n",
              "    </tr>\n",
              "    <tr>\n",
              "      <th>48</th>\n",
              "      <td>2001-03-09</td>\n",
              "      <td>Maneka asks govt to take back land for cow she...</td>\n",
              "      <td>delhi</td>\n",
              "    </tr>\n",
              "    <tr>\n",
              "      <th>114</th>\n",
              "      <td>2001-05-22</td>\n",
              "      <td>She turned and fought</td>\n",
              "      <td>pune</td>\n",
              "    </tr>\n",
              "    <tr>\n",
              "      <th>116</th>\n",
              "      <td>2001-05-27</td>\n",
              "      <td>Need to boost exports; says bank head</td>\n",
              "      <td>bengaluru</td>\n",
              "    </tr>\n",
              "    <tr>\n",
              "      <th>118</th>\n",
              "      <td>2001-05-29</td>\n",
              "      <td>US visit won't be piece of cake for Krishna</td>\n",
              "      <td>bengaluru</td>\n",
              "    </tr>\n",
              "    <tr>\n",
              "      <th>...</th>\n",
              "      <td>...</td>\n",
              "      <td>...</td>\n",
              "      <td>...</td>\n",
              "    </tr>\n",
              "    <tr>\n",
              "      <th>7245</th>\n",
              "      <td>2020-12-15</td>\n",
              "      <td>1;147 RT-PCR tests in a day; only 3 found +ve ...</td>\n",
              "      <td>nagpur</td>\n",
              "    </tr>\n",
              "    <tr>\n",
              "      <th>7248</th>\n",
              "      <td>2020-12-18</td>\n",
              "      <td>Cops; panch witnesses sniffed suspects' mouths...</td>\n",
              "      <td>ahmedabad</td>\n",
              "    </tr>\n",
              "    <tr>\n",
              "      <th>7249</th>\n",
              "      <td>2020-12-19</td>\n",
              "      <td>Rally champion only crowned if half WRC season...</td>\n",
              "      <td>mumbai</td>\n",
              "    </tr>\n",
              "    <tr>\n",
              "      <th>7253</th>\n",
              "      <td>2020-12-23</td>\n",
              "      <td>Sawmill in Makarpura GIDC gutted; none hurt</td>\n",
              "      <td>vadodara</td>\n",
              "    </tr>\n",
              "    <tr>\n",
              "      <th>7259</th>\n",
              "      <td>2020-12-29</td>\n",
              "      <td>Man recovers charred remains of 'thief' from h...</td>\n",
              "      <td>bareilly</td>\n",
              "    </tr>\n",
              "  </tbody>\n",
              "</table>\n",
              "<p>1239 rows × 3 columns</p>\n",
              "</div>"
            ],
            "text/plain": [
              "           Date                                      headline_text  city_name\n",
              "8    2001-01-10           Fend for yourselves; Pande tells doctors      patna\n",
              "48   2001-03-09  Maneka asks govt to take back land for cow she...      delhi\n",
              "114  2001-05-22                              She turned and fought       pune\n",
              "116  2001-05-27              Need to boost exports; says bank head  bengaluru\n",
              "118  2001-05-29        US visit won't be piece of cake for Krishna  bengaluru\n",
              "...         ...                                                ...        ...\n",
              "7245 2020-12-15  1;147 RT-PCR tests in a day; only 3 found +ve ...     nagpur\n",
              "7248 2020-12-18  Cops; panch witnesses sniffed suspects' mouths...  ahmedabad\n",
              "7249 2020-12-19  Rally champion only crowned if half WRC season...     mumbai\n",
              "7253 2020-12-23        Sawmill in Makarpura GIDC gutted; none hurt   vadodara\n",
              "7259 2020-12-29  Man recovers charred remains of 'thief' from h...   bareilly\n",
              "\n",
              "[1239 rows x 3 columns]"
            ]
          },
          "metadata": {},
          "execution_count": 38
        }
      ]
    },
    {
      "cell_type": "code",
      "metadata": {
        "colab": {
          "base_uri": "https://localhost:8080/"
        },
        "id": "4Nj6wxv020Ja",
        "outputId": "77a4e1cd-c6a5-43ef-c079-84e4bae80571"
      },
      "source": [
        "city_data.city_name.unique()"
      ],
      "execution_count": null,
      "outputs": [
        {
          "output_type": "execute_result",
          "data": {
            "text/plain": [
              "array(['patna', 'delhi', 'pune', 'bengaluru', 'ahmedabad', 'mumbai',\n",
              "       'thiruvananthapuram', 'kolkata', 'hyderabad', 'lucknow',\n",
              "       'chandigarh', 'goa', 'nagpur', 'guwahati', 'rajkot', 'bhubaneswar',\n",
              "       'surat', 'allahabad', 'varanasi', 'vadodara', 'mangaluru',\n",
              "       'ranchi', 'jaipur', 'ludhiana', 'mysuru', 'kanpur', 'thane',\n",
              "       'hubballi', 'kochi', 'navimumbai', 'gurgaon', 'indore', 'kolhapur',\n",
              "       'agartala', 'madurai', 'bareilly', 'aurangabad', 'meerut',\n",
              "       'visakhapatnam', 'trichy', 'coimbatore', 'jammu', 'dehradun',\n",
              "       'nashik', 'noida', 'puducherry', 'erode', 'chennai', 'jind',\n",
              "       'ghaziabad', 'bhopal', 'jamshedpur', 'vijayawada', 'agra',\n",
              "       'shimla', 'amritsar'], dtype=object)"
            ]
          },
          "metadata": {},
          "execution_count": 39
        }
      ]
    },
    {
      "cell_type": "code",
      "metadata": {
        "id": "qUZMkE2w3AqL"
      },
      "source": [
        "city_headline = city_data.groupby(['city_name']).agg({'headline_text':'count'})"
      ],
      "execution_count": null,
      "outputs": []
    },
    {
      "cell_type": "code",
      "metadata": {
        "id": "e68MpMZ03G-A"
      },
      "source": [
        "city_headline.rename(columns={'headline_text':'Number_of_headline_text'},inplace=True)"
      ],
      "execution_count": null,
      "outputs": []
    },
    {
      "cell_type": "markdown",
      "metadata": {
        "id": "dHB5OPCoOWti"
      },
      "source": [
        "### Top 20 cities which have high number of headlines texts."
      ]
    },
    {
      "cell_type": "code",
      "metadata": {
        "colab": {
          "base_uri": "https://localhost:8080/",
          "height": 696
        },
        "id": "ahdQ3OdI3MT1",
        "outputId": "f05d95d3-573b-4be1-9155-81f35d2f81f9"
      },
      "source": [
        "city_headline = city_headline.sort_values(by='Number_of_headline_text',ascending=False)\n",
        "top_20_headline_city = city_headline.head(20)\n",
        "top_20_headline_city"
      ],
      "execution_count": null,
      "outputs": [
        {
          "output_type": "execute_result",
          "data": {
            "text/html": [
              "<div>\n",
              "<style scoped>\n",
              "    .dataframe tbody tr th:only-of-type {\n",
              "        vertical-align: middle;\n",
              "    }\n",
              "\n",
              "    .dataframe tbody tr th {\n",
              "        vertical-align: top;\n",
              "    }\n",
              "\n",
              "    .dataframe thead th {\n",
              "        text-align: right;\n",
              "    }\n",
              "</style>\n",
              "<table border=\"1\" class=\"dataframe\">\n",
              "  <thead>\n",
              "    <tr style=\"text-align: right;\">\n",
              "      <th></th>\n",
              "      <th>Number_of_headline_text</th>\n",
              "    </tr>\n",
              "    <tr>\n",
              "      <th>city_name</th>\n",
              "      <th></th>\n",
              "    </tr>\n",
              "  </thead>\n",
              "  <tbody>\n",
              "    <tr>\n",
              "      <th>bengaluru</th>\n",
              "      <td>113</td>\n",
              "    </tr>\n",
              "    <tr>\n",
              "      <th>ahmedabad</th>\n",
              "      <td>81</td>\n",
              "    </tr>\n",
              "    <tr>\n",
              "      <th>delhi</th>\n",
              "      <td>81</td>\n",
              "    </tr>\n",
              "    <tr>\n",
              "      <th>mumbai</th>\n",
              "      <td>79</td>\n",
              "    </tr>\n",
              "    <tr>\n",
              "      <th>hyderabad</th>\n",
              "      <td>72</td>\n",
              "    </tr>\n",
              "    <tr>\n",
              "      <th>pune</th>\n",
              "      <td>59</td>\n",
              "    </tr>\n",
              "    <tr>\n",
              "      <th>patna</th>\n",
              "      <td>54</td>\n",
              "    </tr>\n",
              "    <tr>\n",
              "      <th>chandigarh</th>\n",
              "      <td>52</td>\n",
              "    </tr>\n",
              "    <tr>\n",
              "      <th>nagpur</th>\n",
              "      <td>49</td>\n",
              "    </tr>\n",
              "    <tr>\n",
              "      <th>goa</th>\n",
              "      <td>42</td>\n",
              "    </tr>\n",
              "    <tr>\n",
              "      <th>kolkata</th>\n",
              "      <td>42</td>\n",
              "    </tr>\n",
              "    <tr>\n",
              "      <th>lucknow</th>\n",
              "      <td>38</td>\n",
              "    </tr>\n",
              "    <tr>\n",
              "      <th>madurai</th>\n",
              "      <td>32</td>\n",
              "    </tr>\n",
              "    <tr>\n",
              "      <th>trichy</th>\n",
              "      <td>31</td>\n",
              "    </tr>\n",
              "    <tr>\n",
              "      <th>thiruvananthapuram</th>\n",
              "      <td>30</td>\n",
              "    </tr>\n",
              "    <tr>\n",
              "      <th>chennai</th>\n",
              "      <td>27</td>\n",
              "    </tr>\n",
              "    <tr>\n",
              "      <th>vadodara</th>\n",
              "      <td>20</td>\n",
              "    </tr>\n",
              "    <tr>\n",
              "      <th>kochi</th>\n",
              "      <td>19</td>\n",
              "    </tr>\n",
              "    <tr>\n",
              "      <th>rajkot</th>\n",
              "      <td>18</td>\n",
              "    </tr>\n",
              "    <tr>\n",
              "      <th>mysuru</th>\n",
              "      <td>17</td>\n",
              "    </tr>\n",
              "  </tbody>\n",
              "</table>\n",
              "</div>"
            ],
            "text/plain": [
              "                    Number_of_headline_text\n",
              "city_name                                  \n",
              "bengaluru                               113\n",
              "ahmedabad                                81\n",
              "delhi                                    81\n",
              "mumbai                                   79\n",
              "hyderabad                                72\n",
              "pune                                     59\n",
              "patna                                    54\n",
              "chandigarh                               52\n",
              "nagpur                                   49\n",
              "goa                                      42\n",
              "kolkata                                  42\n",
              "lucknow                                  38\n",
              "madurai                                  32\n",
              "trichy                                   31\n",
              "thiruvananthapuram                       30\n",
              "chennai                                  27\n",
              "vadodara                                 20\n",
              "kochi                                    19\n",
              "rajkot                                   18\n",
              "mysuru                                   17"
            ]
          },
          "metadata": {},
          "execution_count": 42
        }
      ]
    },
    {
      "cell_type": "markdown",
      "metadata": {
        "id": "dwIVem7POfnE"
      },
      "source": [
        "### Visualising the top 20 cities with highest no.of headlines"
      ]
    },
    {
      "cell_type": "code",
      "metadata": {
        "colab": {
          "base_uri": "https://localhost:8080/",
          "height": 546
        },
        "id": "1Mr7uuzz3aUZ",
        "outputId": "00bf688a-8642-4cba-bc84-bc45008a2bbc"
      },
      "source": [
        "plt.figure(figsize=(24,9))\n",
        "plt.bar(top_20_headline_city.index,height=top_20_headline_city['Number_of_headline_text'])\n",
        "plt.xticks(rotation = 45)\n",
        "plt.xlabel('City Name',fontsize=18)\n",
        "plt.ylabel('Number of recorded articles',fontsize=18)\n",
        "plt.title('Number of articles per city\\n',fontsize=24, fontweight='bold')\n",
        "plt.show()"
      ],
      "execution_count": null,
      "outputs": [
        {
          "output_type": "display_data",
          "data": {
            "image/png": "[encoded data removed]",
            "text/plain": [
              "<Figure size 1728x648 with 1 Axes>"
            ]
          },
          "metadata": {
            "needs_background": "light"
          }
        }
      ]
    },
    {
      "cell_type": "markdown",
      "metadata": {
        "id": "Ajf83_LAOvY_"
      },
      "source": [
        "## Representing Number of News Headlines per year and per city"
      ]
    },
    {
      "cell_type": "code",
      "metadata": {
        "colab": {
          "base_uri": "https://localhost:8080/",
          "height": 203
        },
        "id": "QSbLYpzS80gn",
        "outputId": "024bf33b-e923-48b8-99ad-adffd9eb07ba"
      },
      "source": [
        "city_data.rename(columns={'publish_date': 'Date'},inplace = True)\n",
        "city_data.head()"
      ],
      "execution_count": null,
      "outputs": [
        {
          "output_type": "execute_result",
          "data": {
            "text/html": [
              "<div>\n",
              "<style scoped>\n",
              "    .dataframe tbody tr th:only-of-type {\n",
              "        vertical-align: middle;\n",
              "    }\n",
              "\n",
              "    .dataframe tbody tr th {\n",
              "        vertical-align: top;\n",
              "    }\n",
              "\n",
              "    .dataframe thead th {\n",
              "        text-align: right;\n",
              "    }\n",
              "</style>\n",
              "<table border=\"1\" class=\"dataframe\">\n",
              "  <thead>\n",
              "    <tr style=\"text-align: right;\">\n",
              "      <th></th>\n",
              "      <th>index</th>\n",
              "      <th>Date</th>\n",
              "      <th>headline_text</th>\n",
              "      <th>city_name</th>\n",
              "    </tr>\n",
              "  </thead>\n",
              "  <tbody>\n",
              "    <tr>\n",
              "      <th>8</th>\n",
              "      <td>642</td>\n",
              "      <td>2001-01-10</td>\n",
              "      <td>Fend for yourselves; Pande tells doctors</td>\n",
              "      <td>patna</td>\n",
              "    </tr>\n",
              "    <tr>\n",
              "      <th>48</th>\n",
              "      <td>2215</td>\n",
              "      <td>2001-03-09</td>\n",
              "      <td>Maneka asks govt to take back land for cow she...</td>\n",
              "      <td>delhi</td>\n",
              "    </tr>\n",
              "    <tr>\n",
              "      <th>114</th>\n",
              "      <td>4563</td>\n",
              "      <td>2001-05-22</td>\n",
              "      <td>She turned and fought</td>\n",
              "      <td>pune</td>\n",
              "    </tr>\n",
              "    <tr>\n",
              "      <th>116</th>\n",
              "      <td>4693</td>\n",
              "      <td>2001-05-27</td>\n",
              "      <td>Need to boost exports; says bank head</td>\n",
              "      <td>bengaluru</td>\n",
              "    </tr>\n",
              "    <tr>\n",
              "      <th>118</th>\n",
              "      <td>4917</td>\n",
              "      <td>2001-05-29</td>\n",
              "      <td>US visit won't be piece of cake for Krishna</td>\n",
              "      <td>bengaluru</td>\n",
              "    </tr>\n",
              "  </tbody>\n",
              "</table>\n",
              "</div>"
            ],
            "text/plain": [
              "     index  ...  city_name\n",
              "8      642  ...      patna\n",
              "48    2215  ...      delhi\n",
              "114   4563  ...       pune\n",
              "116   4693  ...  bengaluru\n",
              "118   4917  ...  bengaluru\n",
              "\n",
              "[5 rows x 4 columns]"
            ]
          },
          "metadata": {},
          "execution_count": 44
        }
      ]
    },
    {
      "cell_type": "code",
      "metadata": {
        "colab": {
          "base_uri": "https://localhost:8080/",
          "height": 203
        },
        "id": "filyhQsv3l93",
        "outputId": "9d84cb45-1f42-4762-a298-1fa50152e3fa"
      },
      "source": [
        "city_data['Date'] = pd.to_datetime(city_data['Date'])\n",
        "city_data.head()"
      ],
      "execution_count": null,
      "outputs": [
        {
          "output_type": "execute_result",
          "data": {
            "text/html": [
              "<div>\n",
              "<style scoped>\n",
              "    .dataframe tbody tr th:only-of-type {\n",
              "        vertical-align: middle;\n",
              "    }\n",
              "\n",
              "    .dataframe tbody tr th {\n",
              "        vertical-align: top;\n",
              "    }\n",
              "\n",
              "    .dataframe thead th {\n",
              "        text-align: right;\n",
              "    }\n",
              "</style>\n",
              "<table border=\"1\" class=\"dataframe\">\n",
              "  <thead>\n",
              "    <tr style=\"text-align: right;\">\n",
              "      <th></th>\n",
              "      <th>index</th>\n",
              "      <th>Date</th>\n",
              "      <th>headline_text</th>\n",
              "      <th>city_name</th>\n",
              "    </tr>\n",
              "  </thead>\n",
              "  <tbody>\n",
              "    <tr>\n",
              "      <th>8</th>\n",
              "      <td>642</td>\n",
              "      <td>2001-01-10</td>\n",
              "      <td>Fend for yourselves; Pande tells doctors</td>\n",
              "      <td>patna</td>\n",
              "    </tr>\n",
              "    <tr>\n",
              "      <th>48</th>\n",
              "      <td>2215</td>\n",
              "      <td>2001-03-09</td>\n",
              "      <td>Maneka asks govt to take back land for cow she...</td>\n",
              "      <td>delhi</td>\n",
              "    </tr>\n",
              "    <tr>\n",
              "      <th>114</th>\n",
              "      <td>4563</td>\n",
              "      <td>2001-05-22</td>\n",
              "      <td>She turned and fought</td>\n",
              "      <td>pune</td>\n",
              "    </tr>\n",
              "    <tr>\n",
              "      <th>116</th>\n",
              "      <td>4693</td>\n",
              "      <td>2001-05-27</td>\n",
              "      <td>Need to boost exports; says bank head</td>\n",
              "      <td>bengaluru</td>\n",
              "    </tr>\n",
              "    <tr>\n",
              "      <th>118</th>\n",
              "      <td>4917</td>\n",
              "      <td>2001-05-29</td>\n",
              "      <td>US visit won't be piece of cake for Krishna</td>\n",
              "      <td>bengaluru</td>\n",
              "    </tr>\n",
              "  </tbody>\n",
              "</table>\n",
              "</div>"
            ],
            "text/plain": [
              "     index  ...  city_name\n",
              "8      642  ...      patna\n",
              "48    2215  ...      delhi\n",
              "114   4563  ...       pune\n",
              "116   4693  ...  bengaluru\n",
              "118   4917  ...  bengaluru\n",
              "\n",
              "[5 rows x 4 columns]"
            ]
          },
          "metadata": {},
          "execution_count": 45
        }
      ]
    },
    {
      "cell_type": "code",
      "metadata": {
        "id": "8z1Wurzw4XGl"
      },
      "source": [
        "city_data['Year'] = city_data['Date'].apply(lambda x: (x.year))"
      ],
      "execution_count": null,
      "outputs": []
    },
    {
      "cell_type": "code",
      "metadata": {
        "colab": {
          "base_uri": "https://localhost:8080/",
          "height": 203
        },
        "id": "YegZEls24aF1",
        "outputId": "a9213bee-4514-4a82-956c-7d398c0d459b"
      },
      "source": [
        "city_data.drop(columns=['Date','index'],axis=1,inplace=True)\n",
        "city_data.head()"
      ],
      "execution_count": null,
      "outputs": [
        {
          "output_type": "execute_result",
          "data": {
            "text/html": [
              "<div>\n",
              "<style scoped>\n",
              "    .dataframe tbody tr th:only-of-type {\n",
              "        vertical-align: middle;\n",
              "    }\n",
              "\n",
              "    .dataframe tbody tr th {\n",
              "        vertical-align: top;\n",
              "    }\n",
              "\n",
              "    .dataframe thead th {\n",
              "        text-align: right;\n",
              "    }\n",
              "</style>\n",
              "<table border=\"1\" class=\"dataframe\">\n",
              "  <thead>\n",
              "    <tr style=\"text-align: right;\">\n",
              "      <th></th>\n",
              "      <th>headline_text</th>\n",
              "      <th>city_name</th>\n",
              "      <th>Year</th>\n",
              "    </tr>\n",
              "  </thead>\n",
              "  <tbody>\n",
              "    <tr>\n",
              "      <th>8</th>\n",
              "      <td>Fend for yourselves; Pande tells doctors</td>\n",
              "      <td>patna</td>\n",
              "      <td>2001</td>\n",
              "    </tr>\n",
              "    <tr>\n",
              "      <th>48</th>\n",
              "      <td>Maneka asks govt to take back land for cow she...</td>\n",
              "      <td>delhi</td>\n",
              "      <td>2001</td>\n",
              "    </tr>\n",
              "    <tr>\n",
              "      <th>114</th>\n",
              "      <td>She turned and fought</td>\n",
              "      <td>pune</td>\n",
              "      <td>2001</td>\n",
              "    </tr>\n",
              "    <tr>\n",
              "      <th>116</th>\n",
              "      <td>Need to boost exports; says bank head</td>\n",
              "      <td>bengaluru</td>\n",
              "      <td>2001</td>\n",
              "    </tr>\n",
              "    <tr>\n",
              "      <th>118</th>\n",
              "      <td>US visit won't be piece of cake for Krishna</td>\n",
              "      <td>bengaluru</td>\n",
              "      <td>2001</td>\n",
              "    </tr>\n",
              "  </tbody>\n",
              "</table>\n",
              "</div>"
            ],
            "text/plain": [
              "                                         headline_text  city_name  Year\n",
              "8             Fend for yourselves; Pande tells doctors      patna  2001\n",
              "48   Maneka asks govt to take back land for cow she...      delhi  2001\n",
              "114                              She turned and fought       pune  2001\n",
              "116              Need to boost exports; says bank head  bengaluru  2001\n",
              "118        US visit won't be piece of cake for Krishna  bengaluru  2001"
            ]
          },
          "metadata": {},
          "execution_count": 47
        }
      ]
    },
    {
      "cell_type": "code",
      "metadata": {
        "colab": {
          "base_uri": "https://localhost:8080/",
          "height": 203
        },
        "id": "jF_5YkJj4fM8",
        "outputId": "97e91ced-9073-4828-970f-fef37af40286"
      },
      "source": [
        "city_data_2 = city_data.copy()\n",
        "city_data_2['Number_of_headline_text'] = 1\n",
        "city_data_2.drop(columns=['headline_text'],axis=1, inplace=True)\n",
        "\n",
        "city_data_2.head()"
      ],
      "execution_count": null,
      "outputs": [
        {
          "output_type": "execute_result",
          "data": {
            "text/html": [
              "<div>\n",
              "<style scoped>\n",
              "    .dataframe tbody tr th:only-of-type {\n",
              "        vertical-align: middle;\n",
              "    }\n",
              "\n",
              "    .dataframe tbody tr th {\n",
              "        vertical-align: top;\n",
              "    }\n",
              "\n",
              "    .dataframe thead th {\n",
              "        text-align: right;\n",
              "    }\n",
              "</style>\n",
              "<table border=\"1\" class=\"dataframe\">\n",
              "  <thead>\n",
              "    <tr style=\"text-align: right;\">\n",
              "      <th></th>\n",
              "      <th>city_name</th>\n",
              "      <th>Year</th>\n",
              "      <th>Number_of_headline_text</th>\n",
              "    </tr>\n",
              "  </thead>\n",
              "  <tbody>\n",
              "    <tr>\n",
              "      <th>8</th>\n",
              "      <td>patna</td>\n",
              "      <td>2001</td>\n",
              "      <td>1</td>\n",
              "    </tr>\n",
              "    <tr>\n",
              "      <th>48</th>\n",
              "      <td>delhi</td>\n",
              "      <td>2001</td>\n",
              "      <td>1</td>\n",
              "    </tr>\n",
              "    <tr>\n",
              "      <th>114</th>\n",
              "      <td>pune</td>\n",
              "      <td>2001</td>\n",
              "      <td>1</td>\n",
              "    </tr>\n",
              "    <tr>\n",
              "      <th>116</th>\n",
              "      <td>bengaluru</td>\n",
              "      <td>2001</td>\n",
              "      <td>1</td>\n",
              "    </tr>\n",
              "    <tr>\n",
              "      <th>118</th>\n",
              "      <td>bengaluru</td>\n",
              "      <td>2001</td>\n",
              "      <td>1</td>\n",
              "    </tr>\n",
              "  </tbody>\n",
              "</table>\n",
              "</div>"
            ],
            "text/plain": [
              "     city_name  Year  Number_of_headline_text\n",
              "8        patna  2001                        1\n",
              "48       delhi  2001                        1\n",
              "114       pune  2001                        1\n",
              "116  bengaluru  2001                        1\n",
              "118  bengaluru  2001                        1"
            ]
          },
          "metadata": {},
          "execution_count": 48
        }
      ]
    },
    {
      "cell_type": "markdown",
      "metadata": {
        "id": "mCq5BgoMO5ib"
      },
      "source": [
        "### The top 7 cities"
      ]
    },
    {
      "cell_type": "code",
      "metadata": {
        "colab": {
          "base_uri": "https://localhost:8080/",
          "height": 295
        },
        "id": "y6bcwYvn4tQ9",
        "outputId": "10986b23-cd74-4264-ccb7-3e0ab4fe08d5"
      },
      "source": [
        "top_20_headline_city.head(7)"
      ],
      "execution_count": null,
      "outputs": [
        {
          "output_type": "execute_result",
          "data": {
            "text/html": [
              "<div>\n",
              "<style scoped>\n",
              "    .dataframe tbody tr th:only-of-type {\n",
              "        vertical-align: middle;\n",
              "    }\n",
              "\n",
              "    .dataframe tbody tr th {\n",
              "        vertical-align: top;\n",
              "    }\n",
              "\n",
              "    .dataframe thead th {\n",
              "        text-align: right;\n",
              "    }\n",
              "</style>\n",
              "<table border=\"1\" class=\"dataframe\">\n",
              "  <thead>\n",
              "    <tr style=\"text-align: right;\">\n",
              "      <th></th>\n",
              "      <th>Number_of_headline_text</th>\n",
              "    </tr>\n",
              "    <tr>\n",
              "      <th>city_name</th>\n",
              "      <th></th>\n",
              "    </tr>\n",
              "  </thead>\n",
              "  <tbody>\n",
              "    <tr>\n",
              "      <th>bengaluru</th>\n",
              "      <td>113</td>\n",
              "    </tr>\n",
              "    <tr>\n",
              "      <th>ahmedabad</th>\n",
              "      <td>81</td>\n",
              "    </tr>\n",
              "    <tr>\n",
              "      <th>delhi</th>\n",
              "      <td>81</td>\n",
              "    </tr>\n",
              "    <tr>\n",
              "      <th>mumbai</th>\n",
              "      <td>79</td>\n",
              "    </tr>\n",
              "    <tr>\n",
              "      <th>hyderabad</th>\n",
              "      <td>72</td>\n",
              "    </tr>\n",
              "    <tr>\n",
              "      <th>pune</th>\n",
              "      <td>59</td>\n",
              "    </tr>\n",
              "    <tr>\n",
              "      <th>patna</th>\n",
              "      <td>54</td>\n",
              "    </tr>\n",
              "  </tbody>\n",
              "</table>\n",
              "</div>"
            ],
            "text/plain": [
              "           Number_of_headline_text\n",
              "city_name                         \n",
              "bengaluru                      113\n",
              "ahmedabad                       81\n",
              "delhi                           81\n",
              "mumbai                          79\n",
              "hyderabad                       72\n",
              "pune                            59\n",
              "patna                           54"
            ]
          },
          "metadata": {},
          "execution_count": 49
        }
      ]
    },
    {
      "cell_type": "code",
      "metadata": {
        "id": "QHR6kAke_GoY"
      },
      "source": [
        "city_beng = city_data_2[city_data_2.city_name == 'bengaluru']\n",
        "city_del = city_data_2[city_data_2.city_name == 'delhi']\n",
        "city_ahme = city_data_2[city_data_2.city_name == 'ahmedabad']\n",
        "city_mum = city_data_2[city_data_2.city_name == 'mumbai']\n",
        "city_pune = city_data_2[city_data_2.city_name == 'pune']\n",
        "city_hyd = city_data_2[city_data_2.city_name == 'hyderabad']\n",
        "city_patna = city_data_2[city_data_2.city_name == 'patna']"
      ],
      "execution_count": null,
      "outputs": []
    },
    {
      "cell_type": "code",
      "metadata": {
        "id": "Ysgkiay-_Tdc"
      },
      "source": [
        "famous_cities = [city_beng, city_del, city_ahme, city_mum, city_pune, city_hyd, city_patna]\n",
        "data_famous_cities = pd.concat(famous_cities)"
      ],
      "execution_count": null,
      "outputs": []
    },
    {
      "cell_type": "code",
      "metadata": {
        "id": "G7p9f44z_Y5A"
      },
      "source": [
        "data_famous_cities.reset_index(inplace=True)"
      ],
      "execution_count": null,
      "outputs": []
    },
    {
      "cell_type": "code",
      "metadata": {
        "colab": {
          "base_uri": "https://localhost:8080/",
          "height": 220
        },
        "id": "ZjxRJt9n_b2B",
        "outputId": "e5082a37-8389-4872-c065-f9c55fcdc28c"
      },
      "source": [
        "print(data_famous_cities.shape)\n",
        "data_famous_cities.head()"
      ],
      "execution_count": null,
      "outputs": [
        {
          "output_type": "stream",
          "text": [
            "(539, 4)\n"
          ],
          "name": "stdout"
        },
        {
          "output_type": "execute_result",
          "data": {
            "text/html": [
              "<div>\n",
              "<style scoped>\n",
              "    .dataframe tbody tr th:only-of-type {\n",
              "        vertical-align: middle;\n",
              "    }\n",
              "\n",
              "    .dataframe tbody tr th {\n",
              "        vertical-align: top;\n",
              "    }\n",
              "\n",
              "    .dataframe thead th {\n",
              "        text-align: right;\n",
              "    }\n",
              "</style>\n",
              "<table border=\"1\" class=\"dataframe\">\n",
              "  <thead>\n",
              "    <tr style=\"text-align: right;\">\n",
              "      <th></th>\n",
              "      <th>index</th>\n",
              "      <th>city_name</th>\n",
              "      <th>Year</th>\n",
              "      <th>Number_of_headline_text</th>\n",
              "    </tr>\n",
              "  </thead>\n",
              "  <tbody>\n",
              "    <tr>\n",
              "      <th>0</th>\n",
              "      <td>116</td>\n",
              "      <td>bengaluru</td>\n",
              "      <td>2001</td>\n",
              "      <td>1</td>\n",
              "    </tr>\n",
              "    <tr>\n",
              "      <th>1</th>\n",
              "      <td>118</td>\n",
              "      <td>bengaluru</td>\n",
              "      <td>2001</td>\n",
              "      <td>1</td>\n",
              "    </tr>\n",
              "    <tr>\n",
              "      <th>2</th>\n",
              "      <td>119</td>\n",
              "      <td>bengaluru</td>\n",
              "      <td>2001</td>\n",
              "      <td>1</td>\n",
              "    </tr>\n",
              "    <tr>\n",
              "      <th>3</th>\n",
              "      <td>135</td>\n",
              "      <td>bengaluru</td>\n",
              "      <td>2001</td>\n",
              "      <td>1</td>\n",
              "    </tr>\n",
              "    <tr>\n",
              "      <th>4</th>\n",
              "      <td>138</td>\n",
              "      <td>bengaluru</td>\n",
              "      <td>2001</td>\n",
              "      <td>1</td>\n",
              "    </tr>\n",
              "  </tbody>\n",
              "</table>\n",
              "</div>"
            ],
            "text/plain": [
              "   index  city_name  Year  Number_of_headline_text\n",
              "0    116  bengaluru  2001                        1\n",
              "1    118  bengaluru  2001                        1\n",
              "2    119  bengaluru  2001                        1\n",
              "3    135  bengaluru  2001                        1\n",
              "4    138  bengaluru  2001                        1"
            ]
          },
          "metadata": {},
          "execution_count": 53
        }
      ]
    },
    {
      "cell_type": "code",
      "metadata": {
        "id": "JgvIBwKd_ivF"
      },
      "source": [
        "\n",
        "# year-wise no. of headlines text\n",
        "city_year_count = pd.Series(city_data_2.groupby(['Year'])['Number_of_headline_text'].count())\n",
        "\n",
        "# year-wise data which shows which city have how many no. of headline text\n",
        "city_count = data_famous_cities.groupby(['Year', 'city_name']).sum()['Number_of_headline_text'].unstack()"
      ],
      "execution_count": null,
      "outputs": []
    },
    {
      "cell_type": "code",
      "metadata": {
        "colab": {
          "base_uri": "https://localhost:8080/",
          "height": 234
        },
        "id": "rMZbHFu2_mJQ",
        "outputId": "11fa81a2-cf42-4919-a185-3a4196227d8f"
      },
      "source": [
        "city_count.head()"
      ],
      "execution_count": null,
      "outputs": [
        {
          "output_type": "execute_result",
          "data": {
            "text/html": [
              "<div>\n",
              "<style scoped>\n",
              "    .dataframe tbody tr th:only-of-type {\n",
              "        vertical-align: middle;\n",
              "    }\n",
              "\n",
              "    .dataframe tbody tr th {\n",
              "        vertical-align: top;\n",
              "    }\n",
              "\n",
              "    .dataframe thead th {\n",
              "        text-align: right;\n",
              "    }\n",
              "</style>\n",
              "<table border=\"1\" class=\"dataframe\">\n",
              "  <thead>\n",
              "    <tr style=\"text-align: right;\">\n",
              "      <th>city_name</th>\n",
              "      <th>ahmedabad</th>\n",
              "      <th>bengaluru</th>\n",
              "      <th>delhi</th>\n",
              "      <th>hyderabad</th>\n",
              "      <th>mumbai</th>\n",
              "      <th>patna</th>\n",
              "      <th>pune</th>\n",
              "    </tr>\n",
              "    <tr>\n",
              "      <th>Year</th>\n",
              "      <th></th>\n",
              "      <th></th>\n",
              "      <th></th>\n",
              "      <th></th>\n",
              "      <th></th>\n",
              "      <th></th>\n",
              "      <th></th>\n",
              "    </tr>\n",
              "  </thead>\n",
              "  <tbody>\n",
              "    <tr>\n",
              "      <th>2001</th>\n",
              "      <td>12.0</td>\n",
              "      <td>24.0</td>\n",
              "      <td>7.0</td>\n",
              "      <td>11.0</td>\n",
              "      <td>12.0</td>\n",
              "      <td>15.0</td>\n",
              "      <td>10.0</td>\n",
              "    </tr>\n",
              "    <tr>\n",
              "      <th>2002</th>\n",
              "      <td>5.0</td>\n",
              "      <td>5.0</td>\n",
              "      <td>1.0</td>\n",
              "      <td>8.0</td>\n",
              "      <td>6.0</td>\n",
              "      <td>4.0</td>\n",
              "      <td>8.0</td>\n",
              "    </tr>\n",
              "    <tr>\n",
              "      <th>2003</th>\n",
              "      <td>8.0</td>\n",
              "      <td>8.0</td>\n",
              "      <td>3.0</td>\n",
              "      <td>4.0</td>\n",
              "      <td>9.0</td>\n",
              "      <td>2.0</td>\n",
              "      <td>4.0</td>\n",
              "    </tr>\n",
              "    <tr>\n",
              "      <th>2004</th>\n",
              "      <td>11.0</td>\n",
              "      <td>2.0</td>\n",
              "      <td>16.0</td>\n",
              "      <td>7.0</td>\n",
              "      <td>9.0</td>\n",
              "      <td>4.0</td>\n",
              "      <td>12.0</td>\n",
              "    </tr>\n",
              "    <tr>\n",
              "      <th>2005</th>\n",
              "      <td>6.0</td>\n",
              "      <td>12.0</td>\n",
              "      <td>17.0</td>\n",
              "      <td>NaN</td>\n",
              "      <td>1.0</td>\n",
              "      <td>NaN</td>\n",
              "      <td>2.0</td>\n",
              "    </tr>\n",
              "  </tbody>\n",
              "</table>\n",
              "</div>"
            ],
            "text/plain": [
              "city_name  ahmedabad  bengaluru  delhi  hyderabad  mumbai  patna  pune\n",
              "Year                                                                  \n",
              "2001            12.0       24.0    7.0       11.0    12.0   15.0  10.0\n",
              "2002             5.0        5.0    1.0        8.0     6.0    4.0   8.0\n",
              "2003             8.0        8.0    3.0        4.0     9.0    2.0   4.0\n",
              "2004            11.0        2.0   16.0        7.0     9.0    4.0  12.0\n",
              "2005             6.0       12.0   17.0        NaN     1.0    NaN   2.0"
            ]
          },
          "metadata": {},
          "execution_count": 55
        }
      ]
    },
    {
      "cell_type": "code",
      "metadata": {
        "colab": {
          "base_uri": "https://localhost:8080/"
        },
        "id": "bHstZdbF_usR",
        "outputId": "3f00bbcf-1552-44e5-b7f0-ba85849e53eb"
      },
      "source": [
        "city_year_count.head()"
      ],
      "execution_count": null,
      "outputs": [
        {
          "output_type": "execute_result",
          "data": {
            "text/plain": [
              "Year\n",
              "2001    124\n",
              "2002     54\n",
              "2003     62\n",
              "2004     92\n",
              "2005     43\n",
              "Name: Number_of_headline_text, dtype: int64"
            ]
          },
          "metadata": {},
          "execution_count": 56
        }
      ]
    },
    {
      "cell_type": "markdown",
      "metadata": {
        "id": "yrvtkmUvPGHK"
      },
      "source": [
        "### Visualising the Number of articles per year and per city"
      ]
    },
    {
      "cell_type": "code",
      "metadata": {
        "colab": {
          "base_uri": "https://localhost:8080/",
          "height": 624
        },
        "id": "E41aJWqL_3R-",
        "outputId": "3c6c63ef-f16d-4396-d46d-71a1d4334c31"
      },
      "source": [
        "\n",
        "fig=plt.figure()\n",
        "\n",
        "a = fig.add_subplot(111,label=\"1\")\n",
        "\n",
        "plt.figure(figsize=(20,10))\n",
        "\n",
        "city_count.plot(ax=a,figsize=(20,10),title=\"Number of articles per year and per city\\n\")\n",
        "a.set_ylabel('Number of Articles (Per city)', size =16)\n",
        "a.yaxis.tick_left()\n",
        "a.set_xlabel('Year') \n",
        "\n",
        "plt.show()"
      ],
      "execution_count": null,
      "outputs": [
        {
          "output_type": "display_data",
          "data": {
            "image/png": "[encoded data removed]",
            "text/plain": [
              "<Figure size 1440x720 with 1 Axes>"
            ]
          },
          "metadata": {
            "needs_background": "light"
          }
        },
        {
          "output_type": "display_data",
          "data": {
            "text/plain": [
              "<Figure size 1440x720 with 0 Axes>"
            ]
          },
          "metadata": {}
        }
      ]
    },
    {
      "cell_type": "markdown",
      "metadata": {
        "id": "mR6wH3ZdPgdk"
      },
      "source": [
        "### Visualising the no. of articles per year."
      ]
    },
    {
      "cell_type": "code",
      "metadata": {
        "colab": {
          "base_uri": "https://localhost:8080/",
          "height": 595
        },
        "id": "NyA5ov9iAHTC",
        "outputId": "b395bebd-a101-477c-9ed2-03857981711d"
      },
      "source": [
        "fig=plt.figure()\n",
        "\n",
        "a = fig.add_subplot(111,label=\"1\")\n",
        "\n",
        "plt.figure(figsize=(20,10))\n",
        "city_year_count.plot(kind='bar',figsize=(20,10), ax=a,title=\"Number of articles per year\")\n",
        "a.set_ylabel('Number of Articles',size=16)\n",
        "a.set_xlabel(\"\")\n",
        "a.get_yaxis().set_label_coords(-.05,0.5)\n",
        "plt.show()"
      ],
      "execution_count": null,
      "outputs": [
        {
          "output_type": "display_data",
          "data": {
            "image/png": "[encoded data removed]",
            "text/plain": [
              "<Figure size 1440x720 with 1 Axes>"
            ]
          },
          "metadata": {
            "needs_background": "light"
          }
        },
        {
          "output_type": "display_data",
          "data": {
            "text/plain": [
              "<Figure size 1440x720 with 0 Axes>"
            ]
          },
          "metadata": {}
        }
      ]
    },
    {
      "cell_type": "markdown",
      "metadata": {
        "id": "Pr0DKMg9Poqz"
      },
      "source": [
        "## Sentiment Analysis of News Headlines"
      ]
    },
    {
      "cell_type": "code",
      "metadata": {
        "id": "qLngsCs3BfhV"
      },
      "source": [
        "\n",
        "def getAnalysis_polarity(headline):\n",
        "    result = TextBlob(headline)\n",
        "    \n",
        "    if result.sentiment.polarity < 0:\n",
        "        return 'negative'\n",
        "    elif result.sentiment.polarity == 0:\n",
        "        return 'neutral'\n",
        "    else:\n",
        "        return 'positive'"
      ],
      "execution_count": null,
      "outputs": []
    },
    {
      "cell_type": "code",
      "metadata": {
        "id": "A9bDoMyMFXdS"
      },
      "source": [
        "data['Result'] = np.array([getAnalysis_polarity(headline) for headline in data['headline_text']])"
      ],
      "execution_count": null,
      "outputs": []
    },
    {
      "cell_type": "code",
      "metadata": {
        "colab": {
          "base_uri": "https://localhost:8080/",
          "height": 172
        },
        "id": "AERuRwc_FaOo",
        "outputId": "9fadf4e0-aa35-4fcf-d1b8-7adce3ea8694"
      },
      "source": [
        "final_result = data.groupby(['Result']).agg({'headline_text':'count'})\n",
        "final_result"
      ],
      "execution_count": null,
      "outputs": [
        {
          "output_type": "execute_result",
          "data": {
            "text/html": [
              "<div>\n",
              "<style scoped>\n",
              "    .dataframe tbody tr th:only-of-type {\n",
              "        vertical-align: middle;\n",
              "    }\n",
              "\n",
              "    .dataframe tbody tr th {\n",
              "        vertical-align: top;\n",
              "    }\n",
              "\n",
              "    .dataframe thead th {\n",
              "        text-align: right;\n",
              "    }\n",
              "</style>\n",
              "<table border=\"1\" class=\"dataframe\">\n",
              "  <thead>\n",
              "    <tr style=\"text-align: right;\">\n",
              "      <th></th>\n",
              "      <th>headline_text</th>\n",
              "    </tr>\n",
              "    <tr>\n",
              "      <th>Result</th>\n",
              "      <th></th>\n",
              "    </tr>\n",
              "  </thead>\n",
              "  <tbody>\n",
              "    <tr>\n",
              "      <th>negative</th>\n",
              "      <td>650</td>\n",
              "    </tr>\n",
              "    <tr>\n",
              "      <th>neutral</th>\n",
              "      <td>4868</td>\n",
              "    </tr>\n",
              "    <tr>\n",
              "      <th>positive</th>\n",
              "      <td>1744</td>\n",
              "    </tr>\n",
              "  </tbody>\n",
              "</table>\n",
              "</div>"
            ],
            "text/plain": [
              "          headline_text\n",
              "Result                 \n",
              "negative            650\n",
              "neutral            4868\n",
              "positive           1744"
            ]
          },
          "metadata": {},
          "execution_count": 61
        }
      ]
    },
    {
      "cell_type": "code",
      "metadata": {
        "colab": {
          "base_uri": "https://localhost:8080/"
        },
        "id": "f0VuwPPZFdWG",
        "outputId": "b3704b23-cebb-48f1-867c-cf910bb3e408"
      },
      "source": [
        "negative = (final_result.loc['negative'] / len(data))*100\n",
        "neutral = (final_result.loc['neutral'] / len(data))*100\n",
        "positive = (final_result.loc['positive'] / len(data))*100\n",
        "\n",
        "\n",
        "print('Positive Headlines: ' , positive )\n",
        "print('\\n\\nNegative Headlines: ' ,negative )\n",
        "print('\\n\\nUnbiased Headlines: ' , str(neutral))"
      ],
      "execution_count": null,
      "outputs": [
        {
          "output_type": "stream",
          "text": [
            "Positive Headlines:  headline_text    24.015423\n",
            "Name: positive, dtype: float64\n",
            "\n",
            "\n",
            "Negative Headlines:  headline_text    8.950702\n",
            "Name: negative, dtype: float64\n",
            "\n",
            "\n",
            "Unbiased Headlines:  headline_text    67.033875\n",
            "Name: neutral, dtype: float64\n"
          ],
          "name": "stdout"
        }
      ]
    },
    {
      "cell_type": "markdown",
      "metadata": {
        "id": "6NAkXaAzQAFz"
      },
      "source": [
        "### Overall Sentiment Distribution Pie Chart"
      ]
    },
    {
      "cell_type": "code",
      "metadata": {
        "colab": {
          "base_uri": "https://localhost:8080/",
          "height": 482
        },
        "id": "jqddBi2BFg4n",
        "outputId": "9cb61050-1e68-4f25-e1af-d83391517dfa"
      },
      "source": [
        "plt.figure(figsize=(8,8))\n",
        "final_result['headline_text'].plot.pie(autopct='%1.1f%%',colors = ['darkorange', 'red','blue'])\n",
        "plt.title(\"Overall Sentiment Distribution Pie Chart\",fontweight=\"bold\")\n",
        "plt.show()"
      ],
      "execution_count": null,
      "outputs": [
        {
          "output_type": "display_data",
          "data": {
            "image/png": "[encoded data removed]",
            "text/plain": [
              "<Figure size 576x576 with 1 Axes>"
            ]
          },
          "metadata": {}
        }
      ]
    },
    {
      "cell_type": "markdown",
      "metadata": {
        "id": "i98C4Z7iQNZH"
      },
      "source": [
        "# Part 3 - Creating Hybrid model for stock price/performance prediction using numerical analysis of historical stock prices, and sentimental analysis of news headlines"
      ]
    },
    {
      "cell_type": "markdown",
      "metadata": {
        "id": "6xwnd7toQUBB"
      },
      "source": [
        "## Importing the Libraries and the datasets"
      ]
    },
    {
      "cell_type": "code",
      "metadata": {
        "colab": {
          "base_uri": "https://localhost:8080/"
        },
        "id": "UwrjHfe4Fj4F",
        "outputId": "c9cb7ef9-426f-4972-f4a4-135fe1a77098"
      },
      "source": [
        "\n",
        "!pip install vaderSentiment"
      ],
      "execution_count": null,
      "outputs": [
        {
          "output_type": "stream",
          "text": [
            "Requirement already satisfied: vaderSentiment in /usr/local/lib/python3.7/dist-packages (3.3.2)\n",
            "Requirement already satisfied: requests in /usr/local/lib/python3.7/dist-packages (from vaderSentiment) (2.23.0)\n",
            "Requirement already satisfied: chardet<4,>=3.0.2 in /usr/local/lib/python3.7/dist-packages (from requests->vaderSentiment) (3.0.4)\n",
            "Requirement already satisfied: idna<3,>=2.5 in /usr/local/lib/python3.7/dist-packages (from requests->vaderSentiment) (2.10)\n",
            "Requirement already satisfied: certifi>=2017.4.17 in /usr/local/lib/python3.7/dist-packages (from requests->vaderSentiment) (2021.5.30)\n",
            "Requirement already satisfied: urllib3!=1.25.0,!=1.25.1,<1.26,>=1.21.1 in /usr/local/lib/python3.7/dist-packages (from requests->vaderSentiment) (1.24.3)\n"
          ],
          "name": "stdout"
        }
      ]
    },
    {
      "cell_type": "code",
      "metadata": {
        "colab": {
          "base_uri": "https://localhost:8080/"
        },
        "id": "UfdMN7jHFq4y",
        "outputId": "55325907-68c5-41ec-a5b9-3d203aaa87d8"
      },
      "source": [
        "import re\n",
        "from vaderSentiment.vaderSentiment import SentimentIntensityAnalyzer\n",
        "from sklearn.model_selection import train_test_split\n",
        "from sklearn.metrics import accuracy_score\n",
        "from sklearn.ensemble.forest import RandomForestClassifier\n",
        "from sklearn.linear_model import LogisticRegression\n",
        "from sklearn.tree import DecisionTreeClassifier\n",
        "from sklearn.discriminant_analysis import LinearDiscriminantAnalysis\n",
        "from sklearn.ensemble import AdaBoostClassifier\n",
        "from sklearn.ensemble import GradientBoostingClassifier"
      ],
      "execution_count": null,
      "outputs": [
        {
          "output_type": "stream",
          "text": [
            "/usr/local/lib/python3.7/dist-packages/sklearn/utils/deprecation.py:144: FutureWarning: The sklearn.ensemble.forest module is  deprecated in version 0.22 and will be removed in version 0.24. The corresponding classes / functions should instead be imported from sklearn.ensemble. Anything that cannot be imported from sklearn.ensemble is now part of the private API.\n",
            "  warnings.warn(message, FutureWarning)\n"
          ],
          "name": "stderr"
        }
      ]
    },
    {
      "cell_type": "code",
      "metadata": {
        "colab": {
          "base_uri": "https://localhost:8080/",
          "height": 203
        },
        "id": "n5GJUjmHFvJP",
        "outputId": "34f72b7c-da5f-481d-8093-a880a68c5aa6"
      },
      "source": [
        "stock_data =pd.read_csv('/content/drive/MyDrive/The Sparks foundation /task 7/stock_price.csv')\n",
        "stock_data.head()"
      ],
      "execution_count": null,
      "outputs": [
        {
          "output_type": "execute_result",
          "data": {
            "text/html": [
              "<div>\n",
              "<style scoped>\n",
              "    .dataframe tbody tr th:only-of-type {\n",
              "        vertical-align: middle;\n",
              "    }\n",
              "\n",
              "    .dataframe tbody tr th {\n",
              "        vertical-align: top;\n",
              "    }\n",
              "\n",
              "    .dataframe thead th {\n",
              "        text-align: right;\n",
              "    }\n",
              "</style>\n",
              "<table border=\"1\" class=\"dataframe\">\n",
              "  <thead>\n",
              "    <tr style=\"text-align: right;\">\n",
              "      <th></th>\n",
              "      <th>Date</th>\n",
              "      <th>Open</th>\n",
              "      <th>High</th>\n",
              "      <th>Low</th>\n",
              "      <th>Close</th>\n",
              "      <th>Adj Close</th>\n",
              "      <th>Volume</th>\n",
              "    </tr>\n",
              "  </thead>\n",
              "  <tbody>\n",
              "    <tr>\n",
              "      <th>0</th>\n",
              "      <td>2004-08-19</td>\n",
              "      <td>49.813290</td>\n",
              "      <td>51.835709</td>\n",
              "      <td>47.800831</td>\n",
              "      <td>49.982655</td>\n",
              "      <td>49.982655</td>\n",
              "      <td>44871361</td>\n",
              "    </tr>\n",
              "    <tr>\n",
              "      <th>1</th>\n",
              "      <td>2004-08-20</td>\n",
              "      <td>50.316402</td>\n",
              "      <td>54.336334</td>\n",
              "      <td>50.062355</td>\n",
              "      <td>53.952770</td>\n",
              "      <td>53.952770</td>\n",
              "      <td>22942874</td>\n",
              "    </tr>\n",
              "    <tr>\n",
              "      <th>2</th>\n",
              "      <td>2004-08-23</td>\n",
              "      <td>55.168217</td>\n",
              "      <td>56.528118</td>\n",
              "      <td>54.321388</td>\n",
              "      <td>54.495735</td>\n",
              "      <td>54.495735</td>\n",
              "      <td>18342897</td>\n",
              "    </tr>\n",
              "    <tr>\n",
              "      <th>3</th>\n",
              "      <td>2004-08-24</td>\n",
              "      <td>55.412300</td>\n",
              "      <td>55.591629</td>\n",
              "      <td>51.591621</td>\n",
              "      <td>52.239197</td>\n",
              "      <td>52.239197</td>\n",
              "      <td>15319808</td>\n",
              "    </tr>\n",
              "    <tr>\n",
              "      <th>4</th>\n",
              "      <td>2004-08-25</td>\n",
              "      <td>52.284027</td>\n",
              "      <td>53.798351</td>\n",
              "      <td>51.746044</td>\n",
              "      <td>52.802086</td>\n",
              "      <td>52.802086</td>\n",
              "      <td>9232276</td>\n",
              "    </tr>\n",
              "  </tbody>\n",
              "</table>\n",
              "</div>"
            ],
            "text/plain": [
              "         Date       Open       High        Low      Close  Adj Close    Volume\n",
              "0  2004-08-19  49.813290  51.835709  47.800831  49.982655  49.982655  44871361\n",
              "1  2004-08-20  50.316402  54.336334  50.062355  53.952770  53.952770  22942874\n",
              "2  2004-08-23  55.168217  56.528118  54.321388  54.495735  54.495735  18342897\n",
              "3  2004-08-24  55.412300  55.591629  51.591621  52.239197  52.239197  15319808\n",
              "4  2004-08-25  52.284027  53.798351  51.746044  52.802086  52.802086   9232276"
            ]
          },
          "metadata": {},
          "execution_count": 66
        }
      ]
    },
    {
      "cell_type": "code",
      "metadata": {
        "colab": {
          "base_uri": "https://localhost:8080/",
          "height": 203
        },
        "id": "zx6VD-WTF7uz",
        "outputId": "0933e8ef-1f10-493c-c823-f106b8622a2a"
      },
      "source": [
        "stock_headlines = pd.read_csv('/content/drive/MyDrive/The Sparks foundation /task 7/india-news-headlines.csv')\n",
        "stock_headlines.head()"
      ],
      "execution_count": null,
      "outputs": [
        {
          "output_type": "execute_result",
          "data": {
            "text/html": [
              "<div>\n",
              "<style scoped>\n",
              "    .dataframe tbody tr th:only-of-type {\n",
              "        vertical-align: middle;\n",
              "    }\n",
              "\n",
              "    .dataframe tbody tr th {\n",
              "        vertical-align: top;\n",
              "    }\n",
              "\n",
              "    .dataframe thead th {\n",
              "        text-align: right;\n",
              "    }\n",
              "</style>\n",
              "<table border=\"1\" class=\"dataframe\">\n",
              "  <thead>\n",
              "    <tr style=\"text-align: right;\">\n",
              "      <th></th>\n",
              "      <th>publish_date</th>\n",
              "      <th>headline_category</th>\n",
              "      <th>headline_text</th>\n",
              "    </tr>\n",
              "  </thead>\n",
              "  <tbody>\n",
              "    <tr>\n",
              "      <th>0</th>\n",
              "      <td>20010102</td>\n",
              "      <td>unknown</td>\n",
              "      <td>Status quo will not be disturbed at Ayodhya; s...</td>\n",
              "    </tr>\n",
              "    <tr>\n",
              "      <th>1</th>\n",
              "      <td>20010102</td>\n",
              "      <td>unknown</td>\n",
              "      <td>Fissures in Hurriyat over Pak visit</td>\n",
              "    </tr>\n",
              "    <tr>\n",
              "      <th>2</th>\n",
              "      <td>20010102</td>\n",
              "      <td>unknown</td>\n",
              "      <td>America's unwanted heading for India?</td>\n",
              "    </tr>\n",
              "    <tr>\n",
              "      <th>3</th>\n",
              "      <td>20010102</td>\n",
              "      <td>unknown</td>\n",
              "      <td>For bigwigs; it is destination Goa</td>\n",
              "    </tr>\n",
              "    <tr>\n",
              "      <th>4</th>\n",
              "      <td>20010102</td>\n",
              "      <td>unknown</td>\n",
              "      <td>Extra buses to clear tourist traffic</td>\n",
              "    </tr>\n",
              "  </tbody>\n",
              "</table>\n",
              "</div>"
            ],
            "text/plain": [
              "   publish_date  ...                                      headline_text\n",
              "0      20010102  ...  Status quo will not be disturbed at Ayodhya; s...\n",
              "1      20010102  ...                Fissures in Hurriyat over Pak visit\n",
              "2      20010102  ...              America's unwanted heading for India?\n",
              "3      20010102  ...                 For bigwigs; it is destination Goa\n",
              "4      20010102  ...               Extra buses to clear tourist traffic\n",
              "\n",
              "[5 rows x 3 columns]"
            ]
          },
          "metadata": {},
          "execution_count": 67
        }
      ]
    },
    {
      "cell_type": "code",
      "metadata": {
        "id": "_ZcTswkPGEhc"
      },
      "source": [
        "# coverting the column 'Date' to type 'datetime'\n",
        "stock_headlines['publish_date'] = stock_headlines['publish_date'].astype(str)\n",
        "stock_headlines['publish_date'] = stock_headlines['publish_date'].apply(lambda x: x[0:4]+'-'+x[4:6]+'-'+x[6:8])\n",
        "stock_headlines['publish_date'] = pd.to_datetime(stock_headlines['publish_date']).dt.normalize()"
      ],
      "execution_count": null,
      "outputs": []
    },
    {
      "cell_type": "code",
      "metadata": {
        "colab": {
          "base_uri": "https://localhost:8080/",
          "height": 203
        },
        "id": "AYDJ8dhSGscd",
        "outputId": "0513c214-884d-4c2c-e0da-e66f6441cf4d"
      },
      "source": [
        "stock_headlines.rename(columns={'publish_date': 'Date'},inplace = True)\n",
        "stock_headlines.head()"
      ],
      "execution_count": null,
      "outputs": [
        {
          "output_type": "execute_result",
          "data": {
            "text/html": [
              "<div>\n",
              "<style scoped>\n",
              "    .dataframe tbody tr th:only-of-type {\n",
              "        vertical-align: middle;\n",
              "    }\n",
              "\n",
              "    .dataframe tbody tr th {\n",
              "        vertical-align: top;\n",
              "    }\n",
              "\n",
              "    .dataframe thead th {\n",
              "        text-align: right;\n",
              "    }\n",
              "</style>\n",
              "<table border=\"1\" class=\"dataframe\">\n",
              "  <thead>\n",
              "    <tr style=\"text-align: right;\">\n",
              "      <th></th>\n",
              "      <th>Date</th>\n",
              "      <th>headline_category</th>\n",
              "      <th>headline_text</th>\n",
              "    </tr>\n",
              "  </thead>\n",
              "  <tbody>\n",
              "    <tr>\n",
              "      <th>0</th>\n",
              "      <td>2001-01-02</td>\n",
              "      <td>unknown</td>\n",
              "      <td>Status quo will not be disturbed at Ayodhya; s...</td>\n",
              "    </tr>\n",
              "    <tr>\n",
              "      <th>1</th>\n",
              "      <td>2001-01-02</td>\n",
              "      <td>unknown</td>\n",
              "      <td>Fissures in Hurriyat over Pak visit</td>\n",
              "    </tr>\n",
              "    <tr>\n",
              "      <th>2</th>\n",
              "      <td>2001-01-02</td>\n",
              "      <td>unknown</td>\n",
              "      <td>America's unwanted heading for India?</td>\n",
              "    </tr>\n",
              "    <tr>\n",
              "      <th>3</th>\n",
              "      <td>2001-01-02</td>\n",
              "      <td>unknown</td>\n",
              "      <td>For bigwigs; it is destination Goa</td>\n",
              "    </tr>\n",
              "    <tr>\n",
              "      <th>4</th>\n",
              "      <td>2001-01-02</td>\n",
              "      <td>unknown</td>\n",
              "      <td>Extra buses to clear tourist traffic</td>\n",
              "    </tr>\n",
              "  </tbody>\n",
              "</table>\n",
              "</div>"
            ],
            "text/plain": [
              "        Date  ...                                      headline_text\n",
              "0 2001-01-02  ...  Status quo will not be disturbed at Ayodhya; s...\n",
              "1 2001-01-02  ...                Fissures in Hurriyat over Pak visit\n",
              "2 2001-01-02  ...              America's unwanted heading for India?\n",
              "3 2001-01-02  ...                 For bigwigs; it is destination Goa\n",
              "4 2001-01-02  ...               Extra buses to clear tourist traffic\n",
              "\n",
              "[5 rows x 3 columns]"
            ]
          },
          "metadata": {},
          "execution_count": 69
        }
      ]
    },
    {
      "cell_type": "markdown",
      "metadata": {
        "id": "xJXnOkCpQc24"
      },
      "source": [
        "### Creating Hybrid data from Numerical and Textual Data"
      ]
    },
    {
      "cell_type": "code",
      "metadata": {
        "id": "lhSrn_8rHKEV"
      },
      "source": [
        "\n",
        "hybrid_data = pd.concat([stock_data, stock_headlines], axis=1)"
      ],
      "execution_count": null,
      "outputs": []
    },
    {
      "cell_type": "code",
      "metadata": {
        "colab": {
          "base_uri": "https://localhost:8080/",
          "height": 585
        },
        "id": "JTQluvj9HOYR",
        "outputId": "e76d44ef-c2cc-4e7e-aad8-67b2963393df"
      },
      "source": [
        "hybrid_data.dropna(axis=0, inplace=True)\n",
        "hybrid_data"
      ],
      "execution_count": null,
      "outputs": [
        {
          "output_type": "execute_result",
          "data": {
            "text/html": [
              "<div>\n",
              "<style scoped>\n",
              "    .dataframe tbody tr th:only-of-type {\n",
              "        vertical-align: middle;\n",
              "    }\n",
              "\n",
              "    .dataframe tbody tr th {\n",
              "        vertical-align: top;\n",
              "    }\n",
              "\n",
              "    .dataframe thead th {\n",
              "        text-align: right;\n",
              "    }\n",
              "</style>\n",
              "<table border=\"1\" class=\"dataframe\">\n",
              "  <thead>\n",
              "    <tr style=\"text-align: right;\">\n",
              "      <th></th>\n",
              "      <th>Date</th>\n",
              "      <th>Open</th>\n",
              "      <th>High</th>\n",
              "      <th>Low</th>\n",
              "      <th>Close</th>\n",
              "      <th>Adj Close</th>\n",
              "      <th>Volume</th>\n",
              "      <th>Date</th>\n",
              "      <th>headline_category</th>\n",
              "      <th>headline_text</th>\n",
              "    </tr>\n",
              "  </thead>\n",
              "  <tbody>\n",
              "    <tr>\n",
              "      <th>0</th>\n",
              "      <td>2004-08-19</td>\n",
              "      <td>49.813290</td>\n",
              "      <td>51.835709</td>\n",
              "      <td>47.800831</td>\n",
              "      <td>49.982655</td>\n",
              "      <td>49.982655</td>\n",
              "      <td>44871361.0</td>\n",
              "      <td>2001-01-02</td>\n",
              "      <td>unknown</td>\n",
              "      <td>Status quo will not be disturbed at Ayodhya; s...</td>\n",
              "    </tr>\n",
              "    <tr>\n",
              "      <th>1</th>\n",
              "      <td>2004-08-20</td>\n",
              "      <td>50.316402</td>\n",
              "      <td>54.336334</td>\n",
              "      <td>50.062355</td>\n",
              "      <td>53.952770</td>\n",
              "      <td>53.952770</td>\n",
              "      <td>22942874.0</td>\n",
              "      <td>2001-01-02</td>\n",
              "      <td>unknown</td>\n",
              "      <td>Fissures in Hurriyat over Pak visit</td>\n",
              "    </tr>\n",
              "    <tr>\n",
              "      <th>2</th>\n",
              "      <td>2004-08-23</td>\n",
              "      <td>55.168217</td>\n",
              "      <td>56.528118</td>\n",
              "      <td>54.321388</td>\n",
              "      <td>54.495735</td>\n",
              "      <td>54.495735</td>\n",
              "      <td>18342897.0</td>\n",
              "      <td>2001-01-02</td>\n",
              "      <td>unknown</td>\n",
              "      <td>America's unwanted heading for India?</td>\n",
              "    </tr>\n",
              "    <tr>\n",
              "      <th>3</th>\n",
              "      <td>2004-08-24</td>\n",
              "      <td>55.412300</td>\n",
              "      <td>55.591629</td>\n",
              "      <td>51.591621</td>\n",
              "      <td>52.239197</td>\n",
              "      <td>52.239197</td>\n",
              "      <td>15319808.0</td>\n",
              "      <td>2001-01-02</td>\n",
              "      <td>unknown</td>\n",
              "      <td>For bigwigs; it is destination Goa</td>\n",
              "    </tr>\n",
              "    <tr>\n",
              "      <th>4</th>\n",
              "      <td>2004-08-25</td>\n",
              "      <td>52.284027</td>\n",
              "      <td>53.798351</td>\n",
              "      <td>51.746044</td>\n",
              "      <td>52.802086</td>\n",
              "      <td>52.802086</td>\n",
              "      <td>9232276.0</td>\n",
              "      <td>2001-01-02</td>\n",
              "      <td>unknown</td>\n",
              "      <td>Extra buses to clear tourist traffic</td>\n",
              "    </tr>\n",
              "    <tr>\n",
              "      <th>...</th>\n",
              "      <td>...</td>\n",
              "      <td>...</td>\n",
              "      <td>...</td>\n",
              "      <td>...</td>\n",
              "      <td>...</td>\n",
              "      <td>...</td>\n",
              "      <td>...</td>\n",
              "      <td>...</td>\n",
              "      <td>...</td>\n",
              "      <td>...</td>\n",
              "    </tr>\n",
              "    <tr>\n",
              "      <th>4272</th>\n",
              "      <td>2021-08-09</td>\n",
              "      <td>2738.979980</td>\n",
              "      <td>2766.429932</td>\n",
              "      <td>2728.574951</td>\n",
              "      <td>2760.040039</td>\n",
              "      <td>2760.040039</td>\n",
              "      <td>618700.0</td>\n",
              "      <td>2001-05-13</td>\n",
              "      <td>unknown</td>\n",
              "      <td>Backed by deputy mayor; resident flouts buildi...</td>\n",
              "    </tr>\n",
              "    <tr>\n",
              "      <th>4273</th>\n",
              "      <td>2021-08-10</td>\n",
              "      <td>2761.590088</td>\n",
              "      <td>2771.030029</td>\n",
              "      <td>2744.530029</td>\n",
              "      <td>2761.929932</td>\n",
              "      <td>2761.929932</td>\n",
              "      <td>801700.0</td>\n",
              "      <td>2001-05-13</td>\n",
              "      <td>unknown</td>\n",
              "      <td>Hotel Ashok murder: Cops find suspects' photos</td>\n",
              "    </tr>\n",
              "    <tr>\n",
              "      <th>4274</th>\n",
              "      <td>2021-08-11</td>\n",
              "      <td>2765.659912</td>\n",
              "      <td>2776.955078</td>\n",
              "      <td>2747.000000</td>\n",
              "      <td>2753.790039</td>\n",
              "      <td>2753.790039</td>\n",
              "      <td>760200.0</td>\n",
              "      <td>2001-05-13</td>\n",
              "      <td>unknown</td>\n",
              "      <td>Get those muscles moving</td>\n",
              "    </tr>\n",
              "    <tr>\n",
              "      <th>4275</th>\n",
              "      <td>2021-08-12</td>\n",
              "      <td>2754.260010</td>\n",
              "      <td>2768.360107</td>\n",
              "      <td>2735.580078</td>\n",
              "      <td>2767.790039</td>\n",
              "      <td>2767.790039</td>\n",
              "      <td>732300.0</td>\n",
              "      <td>2001-05-13</td>\n",
              "      <td>unknown</td>\n",
              "      <td>Nightingale awards to 22 nurses</td>\n",
              "    </tr>\n",
              "    <tr>\n",
              "      <th>4276</th>\n",
              "      <td>2021-08-13</td>\n",
              "      <td>2767.149902</td>\n",
              "      <td>2773.479980</td>\n",
              "      <td>2760.100098</td>\n",
              "      <td>2768.120117</td>\n",
              "      <td>2768.120117</td>\n",
              "      <td>628600.0</td>\n",
              "      <td>2001-05-13</td>\n",
              "      <td>unknown</td>\n",
              "      <td>Coming clean</td>\n",
              "    </tr>\n",
              "  </tbody>\n",
              "</table>\n",
              "<p>4277 rows × 10 columns</p>\n",
              "</div>"
            ],
            "text/plain": [
              "            Date  ...                                      headline_text\n",
              "0     2004-08-19  ...  Status quo will not be disturbed at Ayodhya; s...\n",
              "1     2004-08-20  ...                Fissures in Hurriyat over Pak visit\n",
              "2     2004-08-23  ...              America's unwanted heading for India?\n",
              "3     2004-08-24  ...                 For bigwigs; it is destination Goa\n",
              "4     2004-08-25  ...               Extra buses to clear tourist traffic\n",
              "...          ...  ...                                                ...\n",
              "4272  2021-08-09  ...  Backed by deputy mayor; resident flouts buildi...\n",
              "4273  2021-08-10  ...     Hotel Ashok murder: Cops find suspects' photos\n",
              "4274  2021-08-11  ...                           Get those muscles moving\n",
              "4275  2021-08-12  ...                    Nightingale awards to 22 nurses\n",
              "4276  2021-08-13  ...                                       Coming clean\n",
              "\n",
              "[4277 rows x 10 columns]"
            ]
          },
          "metadata": {},
          "execution_count": 71
        }
      ]
    },
    {
      "cell_type": "markdown",
      "metadata": {
        "id": "HXcqF-eIQpCj"
      },
      "source": [
        "## Performing Sentiment Analysis on Hybrid Data"
      ]
    },
    {
      "cell_type": "markdown",
      "metadata": {
        "id": "SpL3kH9AQqJ7"
      },
      "source": [
        "### Sentiment Analysis using TextBlob"
      ]
    },
    {
      "cell_type": "code",
      "metadata": {
        "id": "IbkfN-mRH2EL"
      },
      "source": [
        "\n",
        "def analysis_polarity(headline):\n",
        "    result = TextBlob(headline)\n",
        "    \n",
        "    if result.sentiment.polarity < 0:\n",
        "        return 'negative'\n",
        "    elif result.sentiment.polarity == 0:\n",
        "        return 'neutral'\n",
        "    else:\n",
        "        return 'positive'"
      ],
      "execution_count": null,
      "outputs": []
    },
    {
      "cell_type": "code",
      "metadata": {
        "colab": {
          "base_uri": "https://localhost:8080/",
          "height": 304
        },
        "id": "vyQztO8-IKfb",
        "outputId": "49ee5dcd-5280-41b7-9636-9f1afc0edc82"
      },
      "source": [
        "hybrid_data['sentiment'] = np.array([analysis_polarity(headline) for headline in hybrid_data['headline_text']])\n",
        "hybrid_data.head()"
      ],
      "execution_count": null,
      "outputs": [
        {
          "output_type": "execute_result",
          "data": {
            "text/html": [
              "<div>\n",
              "<style scoped>\n",
              "    .dataframe tbody tr th:only-of-type {\n",
              "        vertical-align: middle;\n",
              "    }\n",
              "\n",
              "    .dataframe tbody tr th {\n",
              "        vertical-align: top;\n",
              "    }\n",
              "\n",
              "    .dataframe thead th {\n",
              "        text-align: right;\n",
              "    }\n",
              "</style>\n",
              "<table border=\"1\" class=\"dataframe\">\n",
              "  <thead>\n",
              "    <tr style=\"text-align: right;\">\n",
              "      <th></th>\n",
              "      <th>Date</th>\n",
              "      <th>Open</th>\n",
              "      <th>High</th>\n",
              "      <th>Low</th>\n",
              "      <th>Close</th>\n",
              "      <th>Adj Close</th>\n",
              "      <th>Volume</th>\n",
              "      <th>Date</th>\n",
              "      <th>headline_category</th>\n",
              "      <th>headline_text</th>\n",
              "      <th>sentiment</th>\n",
              "    </tr>\n",
              "  </thead>\n",
              "  <tbody>\n",
              "    <tr>\n",
              "      <th>0</th>\n",
              "      <td>2004-08-19</td>\n",
              "      <td>49.813290</td>\n",
              "      <td>51.835709</td>\n",
              "      <td>47.800831</td>\n",
              "      <td>49.982655</td>\n",
              "      <td>49.982655</td>\n",
              "      <td>44871361.0</td>\n",
              "      <td>2001-01-02</td>\n",
              "      <td>unknown</td>\n",
              "      <td>Status quo will not be disturbed at Ayodhya; s...</td>\n",
              "      <td>neutral</td>\n",
              "    </tr>\n",
              "    <tr>\n",
              "      <th>1</th>\n",
              "      <td>2004-08-20</td>\n",
              "      <td>50.316402</td>\n",
              "      <td>54.336334</td>\n",
              "      <td>50.062355</td>\n",
              "      <td>53.952770</td>\n",
              "      <td>53.952770</td>\n",
              "      <td>22942874.0</td>\n",
              "      <td>2001-01-02</td>\n",
              "      <td>unknown</td>\n",
              "      <td>Fissures in Hurriyat over Pak visit</td>\n",
              "      <td>neutral</td>\n",
              "    </tr>\n",
              "    <tr>\n",
              "      <th>2</th>\n",
              "      <td>2004-08-23</td>\n",
              "      <td>55.168217</td>\n",
              "      <td>56.528118</td>\n",
              "      <td>54.321388</td>\n",
              "      <td>54.495735</td>\n",
              "      <td>54.495735</td>\n",
              "      <td>18342897.0</td>\n",
              "      <td>2001-01-02</td>\n",
              "      <td>unknown</td>\n",
              "      <td>America's unwanted heading for India?</td>\n",
              "      <td>neutral</td>\n",
              "    </tr>\n",
              "    <tr>\n",
              "      <th>3</th>\n",
              "      <td>2004-08-24</td>\n",
              "      <td>55.412300</td>\n",
              "      <td>55.591629</td>\n",
              "      <td>51.591621</td>\n",
              "      <td>52.239197</td>\n",
              "      <td>52.239197</td>\n",
              "      <td>15319808.0</td>\n",
              "      <td>2001-01-02</td>\n",
              "      <td>unknown</td>\n",
              "      <td>For bigwigs; it is destination Goa</td>\n",
              "      <td>neutral</td>\n",
              "    </tr>\n",
              "    <tr>\n",
              "      <th>4</th>\n",
              "      <td>2004-08-25</td>\n",
              "      <td>52.284027</td>\n",
              "      <td>53.798351</td>\n",
              "      <td>51.746044</td>\n",
              "      <td>52.802086</td>\n",
              "      <td>52.802086</td>\n",
              "      <td>9232276.0</td>\n",
              "      <td>2001-01-02</td>\n",
              "      <td>unknown</td>\n",
              "      <td>Extra buses to clear tourist traffic</td>\n",
              "      <td>positive</td>\n",
              "    </tr>\n",
              "  </tbody>\n",
              "</table>\n",
              "</div>"
            ],
            "text/plain": [
              "         Date  ...  sentiment\n",
              "0  2004-08-19  ...    neutral\n",
              "1  2004-08-20  ...    neutral\n",
              "2  2004-08-23  ...    neutral\n",
              "3  2004-08-24  ...    neutral\n",
              "4  2004-08-25  ...   positive\n",
              "\n",
              "[5 rows x 11 columns]"
            ]
          },
          "metadata": {},
          "execution_count": 73
        }
      ]
    },
    {
      "cell_type": "code",
      "metadata": {
        "id": "Po0-nr8uIOKp"
      },
      "source": [
        "senti_data = pd.get_dummies(hybrid_data['sentiment'],drop_first=True)"
      ],
      "execution_count": null,
      "outputs": []
    },
    {
      "cell_type": "code",
      "metadata": {
        "colab": {
          "base_uri": "https://localhost:8080/",
          "height": 354
        },
        "id": "hza1i9PoITVt",
        "outputId": "e9ad5e4b-c7b5-4ac6-bff2-dc50c37784f9"
      },
      "source": [
        "hybrid_data = pd.concat([hybrid_data,senti_data],axis=1)\n",
        "hybrid_data.head()"
      ],
      "execution_count": null,
      "outputs": [
        {
          "output_type": "execute_result",
          "data": {
            "text/html": [
              "<div>\n",
              "<style scoped>\n",
              "    .dataframe tbody tr th:only-of-type {\n",
              "        vertical-align: middle;\n",
              "    }\n",
              "\n",
              "    .dataframe tbody tr th {\n",
              "        vertical-align: top;\n",
              "    }\n",
              "\n",
              "    .dataframe thead th {\n",
              "        text-align: right;\n",
              "    }\n",
              "</style>\n",
              "<table border=\"1\" class=\"dataframe\">\n",
              "  <thead>\n",
              "    <tr style=\"text-align: right;\">\n",
              "      <th></th>\n",
              "      <th>Date</th>\n",
              "      <th>Open</th>\n",
              "      <th>High</th>\n",
              "      <th>Low</th>\n",
              "      <th>Close</th>\n",
              "      <th>Adj Close</th>\n",
              "      <th>Volume</th>\n",
              "      <th>Date</th>\n",
              "      <th>headline_category</th>\n",
              "      <th>headline_text</th>\n",
              "      <th>sentiment</th>\n",
              "      <th>neutral</th>\n",
              "      <th>positive</th>\n",
              "    </tr>\n",
              "  </thead>\n",
              "  <tbody>\n",
              "    <tr>\n",
              "      <th>0</th>\n",
              "      <td>2004-08-19</td>\n",
              "      <td>49.813290</td>\n",
              "      <td>51.835709</td>\n",
              "      <td>47.800831</td>\n",
              "      <td>49.982655</td>\n",
              "      <td>49.982655</td>\n",
              "      <td>44871361.0</td>\n",
              "      <td>2001-01-02</td>\n",
              "      <td>unknown</td>\n",
              "      <td>Status quo will not be disturbed at Ayodhya; s...</td>\n",
              "      <td>neutral</td>\n",
              "      <td>1</td>\n",
              "      <td>0</td>\n",
              "    </tr>\n",
              "    <tr>\n",
              "      <th>1</th>\n",
              "      <td>2004-08-20</td>\n",
              "      <td>50.316402</td>\n",
              "      <td>54.336334</td>\n",
              "      <td>50.062355</td>\n",
              "      <td>53.952770</td>\n",
              "      <td>53.952770</td>\n",
              "      <td>22942874.0</td>\n",
              "      <td>2001-01-02</td>\n",
              "      <td>unknown</td>\n",
              "      <td>Fissures in Hurriyat over Pak visit</td>\n",
              "      <td>neutral</td>\n",
              "      <td>1</td>\n",
              "      <td>0</td>\n",
              "    </tr>\n",
              "    <tr>\n",
              "      <th>2</th>\n",
              "      <td>2004-08-23</td>\n",
              "      <td>55.168217</td>\n",
              "      <td>56.528118</td>\n",
              "      <td>54.321388</td>\n",
              "      <td>54.495735</td>\n",
              "      <td>54.495735</td>\n",
              "      <td>18342897.0</td>\n",
              "      <td>2001-01-02</td>\n",
              "      <td>unknown</td>\n",
              "      <td>America's unwanted heading for India?</td>\n",
              "      <td>neutral</td>\n",
              "      <td>1</td>\n",
              "      <td>0</td>\n",
              "    </tr>\n",
              "    <tr>\n",
              "      <th>3</th>\n",
              "      <td>2004-08-24</td>\n",
              "      <td>55.412300</td>\n",
              "      <td>55.591629</td>\n",
              "      <td>51.591621</td>\n",
              "      <td>52.239197</td>\n",
              "      <td>52.239197</td>\n",
              "      <td>15319808.0</td>\n",
              "      <td>2001-01-02</td>\n",
              "      <td>unknown</td>\n",
              "      <td>For bigwigs; it is destination Goa</td>\n",
              "      <td>neutral</td>\n",
              "      <td>1</td>\n",
              "      <td>0</td>\n",
              "    </tr>\n",
              "    <tr>\n",
              "      <th>4</th>\n",
              "      <td>2004-08-25</td>\n",
              "      <td>52.284027</td>\n",
              "      <td>53.798351</td>\n",
              "      <td>51.746044</td>\n",
              "      <td>52.802086</td>\n",
              "      <td>52.802086</td>\n",
              "      <td>9232276.0</td>\n",
              "      <td>2001-01-02</td>\n",
              "      <td>unknown</td>\n",
              "      <td>Extra buses to clear tourist traffic</td>\n",
              "      <td>positive</td>\n",
              "      <td>0</td>\n",
              "      <td>1</td>\n",
              "    </tr>\n",
              "  </tbody>\n",
              "</table>\n",
              "</div>"
            ],
            "text/plain": [
              "         Date       Open       High  ...  sentiment  neutral  positive\n",
              "0  2004-08-19  49.813290  51.835709  ...    neutral        1         0\n",
              "1  2004-08-20  50.316402  54.336334  ...    neutral        1         0\n",
              "2  2004-08-23  55.168217  56.528118  ...    neutral        1         0\n",
              "3  2004-08-24  55.412300  55.591629  ...    neutral        1         0\n",
              "4  2004-08-25  52.284027  53.798351  ...   positive        0         1\n",
              "\n",
              "[5 rows x 13 columns]"
            ]
          },
          "metadata": {},
          "execution_count": 75
        }
      ]
    },
    {
      "cell_type": "markdown",
      "metadata": {
        "id": "UDyg6_LLQ7aJ"
      },
      "source": [
        "## Adding subjectivity and polarity Scores to Textual Data (News Headlines)"
      ]
    },
    {
      "cell_type": "code",
      "metadata": {
        "id": "TlTPeNzzIY3M"
      },
      "source": [
        "def getSubjectivity(text):\n",
        "  return TextBlob(text).sentiment.subjectivity\n",
        "\n",
        "def getPolarity(text):\n",
        "  return  TextBlob(text).sentiment.polarity"
      ],
      "execution_count": null,
      "outputs": []
    },
    {
      "cell_type": "code",
      "metadata": {
        "colab": {
          "base_uri": "https://localhost:8080/",
          "height": 442
        },
        "id": "ac7hzaN3IeHo",
        "outputId": "1ca4d229-a145-4b0a-bbee-9ca36ba129bd"
      },
      "source": [
        "hybrid_data['Subjectivity'] =hybrid_data['headline_text'].apply(getSubjectivity)\n",
        "hybrid_data['Polarity'] = hybrid_data['headline_text'].apply(getPolarity)\n",
        "hybrid_data.head()"
      ],
      "execution_count": null,
      "outputs": [
        {
          "output_type": "execute_result",
          "data": {
            "text/html": [
              "<div>\n",
              "<style scoped>\n",
              "    .dataframe tbody tr th:only-of-type {\n",
              "        vertical-align: middle;\n",
              "    }\n",
              "\n",
              "    .dataframe tbody tr th {\n",
              "        vertical-align: top;\n",
              "    }\n",
              "\n",
              "    .dataframe thead th {\n",
              "        text-align: right;\n",
              "    }\n",
              "</style>\n",
              "<table border=\"1\" class=\"dataframe\">\n",
              "  <thead>\n",
              "    <tr style=\"text-align: right;\">\n",
              "      <th></th>\n",
              "      <th>Date</th>\n",
              "      <th>Open</th>\n",
              "      <th>High</th>\n",
              "      <th>Low</th>\n",
              "      <th>Close</th>\n",
              "      <th>Adj Close</th>\n",
              "      <th>Volume</th>\n",
              "      <th>Date</th>\n",
              "      <th>headline_category</th>\n",
              "      <th>headline_text</th>\n",
              "      <th>sentiment</th>\n",
              "      <th>neutral</th>\n",
              "      <th>positive</th>\n",
              "      <th>Subjectivity</th>\n",
              "      <th>Polarity</th>\n",
              "    </tr>\n",
              "  </thead>\n",
              "  <tbody>\n",
              "    <tr>\n",
              "      <th>0</th>\n",
              "      <td>2004-08-19</td>\n",
              "      <td>49.813290</td>\n",
              "      <td>51.835709</td>\n",
              "      <td>47.800831</td>\n",
              "      <td>49.982655</td>\n",
              "      <td>49.982655</td>\n",
              "      <td>44871361.0</td>\n",
              "      <td>2001-01-02</td>\n",
              "      <td>unknown</td>\n",
              "      <td>Status quo will not be disturbed at Ayodhya; s...</td>\n",
              "      <td>neutral</td>\n",
              "      <td>1</td>\n",
              "      <td>0</td>\n",
              "      <td>0.000000</td>\n",
              "      <td>0.00</td>\n",
              "    </tr>\n",
              "    <tr>\n",
              "      <th>1</th>\n",
              "      <td>2004-08-20</td>\n",
              "      <td>50.316402</td>\n",
              "      <td>54.336334</td>\n",
              "      <td>50.062355</td>\n",
              "      <td>53.952770</td>\n",
              "      <td>53.952770</td>\n",
              "      <td>22942874.0</td>\n",
              "      <td>2001-01-02</td>\n",
              "      <td>unknown</td>\n",
              "      <td>Fissures in Hurriyat over Pak visit</td>\n",
              "      <td>neutral</td>\n",
              "      <td>1</td>\n",
              "      <td>0</td>\n",
              "      <td>0.000000</td>\n",
              "      <td>0.00</td>\n",
              "    </tr>\n",
              "    <tr>\n",
              "      <th>2</th>\n",
              "      <td>2004-08-23</td>\n",
              "      <td>55.168217</td>\n",
              "      <td>56.528118</td>\n",
              "      <td>54.321388</td>\n",
              "      <td>54.495735</td>\n",
              "      <td>54.495735</td>\n",
              "      <td>18342897.0</td>\n",
              "      <td>2001-01-02</td>\n",
              "      <td>unknown</td>\n",
              "      <td>America's unwanted heading for India?</td>\n",
              "      <td>neutral</td>\n",
              "      <td>1</td>\n",
              "      <td>0</td>\n",
              "      <td>0.000000</td>\n",
              "      <td>0.00</td>\n",
              "    </tr>\n",
              "    <tr>\n",
              "      <th>3</th>\n",
              "      <td>2004-08-24</td>\n",
              "      <td>55.412300</td>\n",
              "      <td>55.591629</td>\n",
              "      <td>51.591621</td>\n",
              "      <td>52.239197</td>\n",
              "      <td>52.239197</td>\n",
              "      <td>15319808.0</td>\n",
              "      <td>2001-01-02</td>\n",
              "      <td>unknown</td>\n",
              "      <td>For bigwigs; it is destination Goa</td>\n",
              "      <td>neutral</td>\n",
              "      <td>1</td>\n",
              "      <td>0</td>\n",
              "      <td>0.000000</td>\n",
              "      <td>0.00</td>\n",
              "    </tr>\n",
              "    <tr>\n",
              "      <th>4</th>\n",
              "      <td>2004-08-25</td>\n",
              "      <td>52.284027</td>\n",
              "      <td>53.798351</td>\n",
              "      <td>51.746044</td>\n",
              "      <td>52.802086</td>\n",
              "      <td>52.802086</td>\n",
              "      <td>9232276.0</td>\n",
              "      <td>2001-01-02</td>\n",
              "      <td>unknown</td>\n",
              "      <td>Extra buses to clear tourist traffic</td>\n",
              "      <td>positive</td>\n",
              "      <td>0</td>\n",
              "      <td>1</td>\n",
              "      <td>0.241667</td>\n",
              "      <td>0.05</td>\n",
              "    </tr>\n",
              "  </tbody>\n",
              "</table>\n",
              "</div>"
            ],
            "text/plain": [
              "         Date       Open       High  ...  positive  Subjectivity  Polarity\n",
              "0  2004-08-19  49.813290  51.835709  ...         0      0.000000      0.00\n",
              "1  2004-08-20  50.316402  54.336334  ...         0      0.000000      0.00\n",
              "2  2004-08-23  55.168217  56.528118  ...         0      0.000000      0.00\n",
              "3  2004-08-24  55.412300  55.591629  ...         0      0.000000      0.00\n",
              "4  2004-08-25  52.284027  53.798351  ...         1      0.241667      0.05\n",
              "\n",
              "[5 rows x 15 columns]"
            ]
          },
          "metadata": {},
          "execution_count": 77
        }
      ]
    },
    {
      "cell_type": "markdown",
      "metadata": {
        "id": "GkwgrstXRBSf"
      },
      "source": [
        "### Visualizing the polarity and Subjectivity scores"
      ]
    },
    {
      "cell_type": "code",
      "metadata": {
        "colab": {
          "base_uri": "https://localhost:8080/",
          "height": 407
        },
        "id": "LCWYWlcMIhZE",
        "outputId": "1bca5558-e952-40ea-a03a-5507c47f4403"
      },
      "source": [
        "plt.figure(figsize = (10,6))\n",
        "plt.title('News Polarity')\n",
        "hybrid_data['Polarity'].hist(color = 'darkviolet')"
      ],
      "execution_count": null,
      "outputs": [
        {
          "output_type": "execute_result",
          "data": {
            "text/plain": [
              "<matplotlib.axes._subplots.AxesSubplot at 0x7f9cf1eb9ad0>"
            ]
          },
          "metadata": {},
          "execution_count": 78
        },
        {
          "output_type": "display_data",
          "data": {
            "image/png": "[encoded data removed]",
            "text/plain": [
              "<Figure size 720x432 with 1 Axes>"
            ]
          },
          "metadata": {
            "needs_background": "light"
          }
        }
      ]
    },
    {
      "cell_type": "code",
      "metadata": {
        "colab": {
          "base_uri": "https://localhost:8080/",
          "height": 407
        },
        "id": "iaAJ0KWYItBW",
        "outputId": "60eb10b9-9cfe-46b3-f4df-ee4493fb4a2f"
      },
      "source": [
        "plt.figure(figsize = (10,6))\n",
        "plt.title('News Subjectivity')\n",
        "hybrid_data['Subjectivity'].hist(color = 'red')"
      ],
      "execution_count": null,
      "outputs": [
        {
          "output_type": "execute_result",
          "data": {
            "text/plain": [
              "<matplotlib.axes._subplots.AxesSubplot at 0x7f9d02018790>"
            ]
          },
          "metadata": {},
          "execution_count": 79
        },
        {
          "output_type": "display_data",
          "data": {
            "image/png": "[encoded data removed]",
            "text/plain": [
              "<Figure size 720x432 with 1 Axes>"
            ]
          },
          "metadata": {
            "needs_background": "light"
          }
        }
      ]
    },
    {
      "cell_type": "markdown",
      "metadata": {
        "id": "SpAoJJZPRLPQ"
      },
      "source": [
        "### Performing Sentiment Analysis over the news Headlines of Hybrid Data"
      ]
    },
    {
      "cell_type": "code",
      "metadata": {
        "colab": {
          "base_uri": "https://localhost:8080/",
          "height": 442
        },
        "id": "enJikMTLJFI2",
        "outputId": "85522fa7-3da6-466f-86aa-efd883298ff0"
      },
      "source": [
        "\n",
        "senti_int_an = SentimentIntensityAnalyzer()\n",
        "\n",
        "hybrid_data['Compound'] = [senti_int_an.polarity_scores(v)['compound'] for v in hybrid_data['headline_text']]\n",
        "hybrid_data['Negative'] = [senti_int_an.polarity_scores(v)['neg'] for v in hybrid_data['headline_text']]\n",
        "hybrid_data['Neutral'] = [senti_int_an.polarity_scores(v)['neu'] for v in hybrid_data['headline_text']]\n",
        "hybrid_data['Positive'] = [senti_int_an.polarity_scores(v)['pos'] for v in hybrid_data['headline_text']]\n",
        "hybrid_data.head()"
      ],
      "execution_count": null,
      "outputs": [
        {
          "output_type": "execute_result",
          "data": {
            "text/html": [
              "<div>\n",
              "<style scoped>\n",
              "    .dataframe tbody tr th:only-of-type {\n",
              "        vertical-align: middle;\n",
              "    }\n",
              "\n",
              "    .dataframe tbody tr th {\n",
              "        vertical-align: top;\n",
              "    }\n",
              "\n",
              "    .dataframe thead th {\n",
              "        text-align: right;\n",
              "    }\n",
              "</style>\n",
              "<table border=\"1\" class=\"dataframe\">\n",
              "  <thead>\n",
              "    <tr style=\"text-align: right;\">\n",
              "      <th></th>\n",
              "      <th>Date</th>\n",
              "      <th>Open</th>\n",
              "      <th>High</th>\n",
              "      <th>Low</th>\n",
              "      <th>Close</th>\n",
              "      <th>Adj Close</th>\n",
              "      <th>Volume</th>\n",
              "      <th>Date</th>\n",
              "      <th>headline_category</th>\n",
              "      <th>headline_text</th>\n",
              "      <th>sentiment</th>\n",
              "      <th>neutral</th>\n",
              "      <th>positive</th>\n",
              "      <th>Subjectivity</th>\n",
              "      <th>Polarity</th>\n",
              "      <th>Compound</th>\n",
              "      <th>Negative</th>\n",
              "      <th>Neutral</th>\n",
              "      <th>Positive</th>\n",
              "    </tr>\n",
              "  </thead>\n",
              "  <tbody>\n",
              "    <tr>\n",
              "      <th>0</th>\n",
              "      <td>2004-08-19</td>\n",
              "      <td>49.813290</td>\n",
              "      <td>51.835709</td>\n",
              "      <td>47.800831</td>\n",
              "      <td>49.982655</td>\n",
              "      <td>49.982655</td>\n",
              "      <td>44871361.0</td>\n",
              "      <td>2001-01-02</td>\n",
              "      <td>unknown</td>\n",
              "      <td>Status quo will not be disturbed at Ayodhya; s...</td>\n",
              "      <td>neutral</td>\n",
              "      <td>1</td>\n",
              "      <td>0</td>\n",
              "      <td>0.000000</td>\n",
              "      <td>0.00</td>\n",
              "      <td>0.2924</td>\n",
              "      <td>0.000</td>\n",
              "      <td>0.805</td>\n",
              "      <td>0.195</td>\n",
              "    </tr>\n",
              "    <tr>\n",
              "      <th>1</th>\n",
              "      <td>2004-08-20</td>\n",
              "      <td>50.316402</td>\n",
              "      <td>54.336334</td>\n",
              "      <td>50.062355</td>\n",
              "      <td>53.952770</td>\n",
              "      <td>53.952770</td>\n",
              "      <td>22942874.0</td>\n",
              "      <td>2001-01-02</td>\n",
              "      <td>unknown</td>\n",
              "      <td>Fissures in Hurriyat over Pak visit</td>\n",
              "      <td>neutral</td>\n",
              "      <td>1</td>\n",
              "      <td>0</td>\n",
              "      <td>0.000000</td>\n",
              "      <td>0.00</td>\n",
              "      <td>0.0000</td>\n",
              "      <td>0.000</td>\n",
              "      <td>1.000</td>\n",
              "      <td>0.000</td>\n",
              "    </tr>\n",
              "    <tr>\n",
              "      <th>2</th>\n",
              "      <td>2004-08-23</td>\n",
              "      <td>55.168217</td>\n",
              "      <td>56.528118</td>\n",
              "      <td>54.321388</td>\n",
              "      <td>54.495735</td>\n",
              "      <td>54.495735</td>\n",
              "      <td>18342897.0</td>\n",
              "      <td>2001-01-02</td>\n",
              "      <td>unknown</td>\n",
              "      <td>America's unwanted heading for India?</td>\n",
              "      <td>neutral</td>\n",
              "      <td>1</td>\n",
              "      <td>0</td>\n",
              "      <td>0.000000</td>\n",
              "      <td>0.00</td>\n",
              "      <td>-0.2263</td>\n",
              "      <td>0.322</td>\n",
              "      <td>0.678</td>\n",
              "      <td>0.000</td>\n",
              "    </tr>\n",
              "    <tr>\n",
              "      <th>3</th>\n",
              "      <td>2004-08-24</td>\n",
              "      <td>55.412300</td>\n",
              "      <td>55.591629</td>\n",
              "      <td>51.591621</td>\n",
              "      <td>52.239197</td>\n",
              "      <td>52.239197</td>\n",
              "      <td>15319808.0</td>\n",
              "      <td>2001-01-02</td>\n",
              "      <td>unknown</td>\n",
              "      <td>For bigwigs; it is destination Goa</td>\n",
              "      <td>neutral</td>\n",
              "      <td>1</td>\n",
              "      <td>0</td>\n",
              "      <td>0.000000</td>\n",
              "      <td>0.00</td>\n",
              "      <td>0.0000</td>\n",
              "      <td>0.000</td>\n",
              "      <td>1.000</td>\n",
              "      <td>0.000</td>\n",
              "    </tr>\n",
              "    <tr>\n",
              "      <th>4</th>\n",
              "      <td>2004-08-25</td>\n",
              "      <td>52.284027</td>\n",
              "      <td>53.798351</td>\n",
              "      <td>51.746044</td>\n",
              "      <td>52.802086</td>\n",
              "      <td>52.802086</td>\n",
              "      <td>9232276.0</td>\n",
              "      <td>2001-01-02</td>\n",
              "      <td>unknown</td>\n",
              "      <td>Extra buses to clear tourist traffic</td>\n",
              "      <td>positive</td>\n",
              "      <td>0</td>\n",
              "      <td>1</td>\n",
              "      <td>0.241667</td>\n",
              "      <td>0.05</td>\n",
              "      <td>0.3818</td>\n",
              "      <td>0.000</td>\n",
              "      <td>0.658</td>\n",
              "      <td>0.342</td>\n",
              "    </tr>\n",
              "  </tbody>\n",
              "</table>\n",
              "</div>"
            ],
            "text/plain": [
              "         Date       Open       High  ...  Negative  Neutral  Positive\n",
              "0  2004-08-19  49.813290  51.835709  ...     0.000    0.805     0.195\n",
              "1  2004-08-20  50.316402  54.336334  ...     0.000    1.000     0.000\n",
              "2  2004-08-23  55.168217  56.528118  ...     0.322    0.678     0.000\n",
              "3  2004-08-24  55.412300  55.591629  ...     0.000    1.000     0.000\n",
              "4  2004-08-25  52.284027  53.798351  ...     0.000    0.658     0.342\n",
              "\n",
              "[5 rows x 19 columns]"
            ]
          },
          "metadata": {},
          "execution_count": 80
        }
      ]
    },
    {
      "cell_type": "code",
      "metadata": {
        "colab": {
          "base_uri": "https://localhost:8080/"
        },
        "id": "OM9KoAhmJNl1",
        "outputId": "e7e1abd9-1264-4d30-9d3f-592b3d891095"
      },
      "source": [
        "\n",
        "hybrid_data.columns"
      ],
      "execution_count": null,
      "outputs": [
        {
          "output_type": "execute_result",
          "data": {
            "text/plain": [
              "Index(['Date', 'Open', 'High', 'Low', 'Close', 'Adj Close', 'Volume', 'Date',\n",
              "       'headline_category', 'headline_text', 'sentiment', 'neutral',\n",
              "       'positive', 'Subjectivity', 'Polarity', 'Compound', 'Negative',\n",
              "       'Neutral', 'Positive'],\n",
              "      dtype='object')"
            ]
          },
          "metadata": {},
          "execution_count": 81
        }
      ]
    },
    {
      "cell_type": "code",
      "metadata": {
        "id": "H7I2IO5JJRfu"
      },
      "source": [
        "req_col = [ 'Open',  'High', 'Low','Volume','Compound', 'Negative', 'Neutral' ,'Positive','positive']\n",
        "\n",
        "new_hybrid = hybrid_data[req_col]\n",
        "new_hybrid.reset_index(inplace = True)"
      ],
      "execution_count": null,
      "outputs": []
    },
    {
      "cell_type": "code",
      "metadata": {
        "colab": {
          "base_uri": "https://localhost:8080/",
          "height": 304
        },
        "id": "PwYdK1mRKKjl",
        "outputId": "907bbf08-8f1e-491a-b29f-ed0c6aca7d86"
      },
      "source": [
        "new_hybrid.rename(columns = {'positive':'Label'}, inplace = True)\n",
        "print(new_hybrid.shape)\n",
        "new_hybrid.head()\n"
      ],
      "execution_count": null,
      "outputs": [
        {
          "output_type": "stream",
          "text": [
            "(4277, 10)\n"
          ],
          "name": "stdout"
        },
        {
          "output_type": "stream",
          "text": [
            "/usr/local/lib/python3.7/dist-packages/pandas/core/frame.py:4308: SettingWithCopyWarning: \n",
            "A value is trying to be set on a copy of a slice from a DataFrame\n",
            "\n",
            "See the caveats in the documentation: https://pandas.pydata.org/pandas-docs/stable/user_guide/indexing.html#returning-a-view-versus-a-copy\n",
            "  errors=errors,\n"
          ],
          "name": "stderr"
        },
        {
          "output_type": "execute_result",
          "data": {
            "text/html": [
              "<div>\n",
              "<style scoped>\n",
              "    .dataframe tbody tr th:only-of-type {\n",
              "        vertical-align: middle;\n",
              "    }\n",
              "\n",
              "    .dataframe tbody tr th {\n",
              "        vertical-align: top;\n",
              "    }\n",
              "\n",
              "    .dataframe thead th {\n",
              "        text-align: right;\n",
              "    }\n",
              "</style>\n",
              "<table border=\"1\" class=\"dataframe\">\n",
              "  <thead>\n",
              "    <tr style=\"text-align: right;\">\n",
              "      <th></th>\n",
              "      <th>index</th>\n",
              "      <th>Open</th>\n",
              "      <th>High</th>\n",
              "      <th>Low</th>\n",
              "      <th>Volume</th>\n",
              "      <th>Compound</th>\n",
              "      <th>Negative</th>\n",
              "      <th>Neutral</th>\n",
              "      <th>Positive</th>\n",
              "      <th>Label</th>\n",
              "    </tr>\n",
              "  </thead>\n",
              "  <tbody>\n",
              "    <tr>\n",
              "      <th>0</th>\n",
              "      <td>0</td>\n",
              "      <td>49.813290</td>\n",
              "      <td>51.835709</td>\n",
              "      <td>47.800831</td>\n",
              "      <td>44871361.0</td>\n",
              "      <td>0.2924</td>\n",
              "      <td>0.000</td>\n",
              "      <td>0.805</td>\n",
              "      <td>0.195</td>\n",
              "      <td>0</td>\n",
              "    </tr>\n",
              "    <tr>\n",
              "      <th>1</th>\n",
              "      <td>1</td>\n",
              "      <td>50.316402</td>\n",
              "      <td>54.336334</td>\n",
              "      <td>50.062355</td>\n",
              "      <td>22942874.0</td>\n",
              "      <td>0.0000</td>\n",
              "      <td>0.000</td>\n",
              "      <td>1.000</td>\n",
              "      <td>0.000</td>\n",
              "      <td>0</td>\n",
              "    </tr>\n",
              "    <tr>\n",
              "      <th>2</th>\n",
              "      <td>2</td>\n",
              "      <td>55.168217</td>\n",
              "      <td>56.528118</td>\n",
              "      <td>54.321388</td>\n",
              "      <td>18342897.0</td>\n",
              "      <td>-0.2263</td>\n",
              "      <td>0.322</td>\n",
              "      <td>0.678</td>\n",
              "      <td>0.000</td>\n",
              "      <td>0</td>\n",
              "    </tr>\n",
              "    <tr>\n",
              "      <th>3</th>\n",
              "      <td>3</td>\n",
              "      <td>55.412300</td>\n",
              "      <td>55.591629</td>\n",
              "      <td>51.591621</td>\n",
              "      <td>15319808.0</td>\n",
              "      <td>0.0000</td>\n",
              "      <td>0.000</td>\n",
              "      <td>1.000</td>\n",
              "      <td>0.000</td>\n",
              "      <td>0</td>\n",
              "    </tr>\n",
              "    <tr>\n",
              "      <th>4</th>\n",
              "      <td>4</td>\n",
              "      <td>52.284027</td>\n",
              "      <td>53.798351</td>\n",
              "      <td>51.746044</td>\n",
              "      <td>9232276.0</td>\n",
              "      <td>0.3818</td>\n",
              "      <td>0.000</td>\n",
              "      <td>0.658</td>\n",
              "      <td>0.342</td>\n",
              "      <td>1</td>\n",
              "    </tr>\n",
              "  </tbody>\n",
              "</table>\n",
              "</div>"
            ],
            "text/plain": [
              "   index       Open       High        Low  ...  Negative  Neutral  Positive  Label\n",
              "0      0  49.813290  51.835709  47.800831  ...     0.000    0.805     0.195      0\n",
              "1      1  50.316402  54.336334  50.062355  ...     0.000    1.000     0.000      0\n",
              "2      2  55.168217  56.528118  54.321388  ...     0.322    0.678     0.000      0\n",
              "3      3  55.412300  55.591629  51.591621  ...     0.000    1.000     0.000      0\n",
              "4      4  52.284027  53.798351  51.746044  ...     0.000    0.658     0.342      1\n",
              "\n",
              "[5 rows x 10 columns]"
            ]
          },
          "metadata": {},
          "execution_count": 83
        }
      ]
    },
    {
      "cell_type": "markdown",
      "metadata": {
        "id": "N4zwXA7ORWd0"
      },
      "source": [
        "## Training and Testing the Models for Stock Price/Performance Analysis"
      ]
    },
    {
      "cell_type": "code",
      "metadata": {
        "id": "M7xJTFALKSv7"
      },
      "source": [
        "X = new_hybrid.drop('Label', axis=1)    \n",
        "\n",
        "y = new_hybrid['Label']"
      ],
      "execution_count": null,
      "outputs": []
    },
    {
      "cell_type": "code",
      "metadata": {
        "id": "jbK01pYAKwhG"
      },
      "source": [
        "x_train, x_test, y_train, y_test = train_test_split(X, y, test_size=0.2, random_state = 0)"
      ],
      "execution_count": null,
      "outputs": []
    },
    {
      "cell_type": "code",
      "metadata": {
        "colab": {
          "base_uri": "https://localhost:8080/"
        },
        "id": "aTDRxn7EKy8o",
        "outputId": "768005b6-0b2f-4509-c53e-fa6bbcde2c8d"
      },
      "source": [
        "np.any(np.isnan(x_train))"
      ],
      "execution_count": null,
      "outputs": [
        {
          "output_type": "execute_result",
          "data": {
            "text/plain": [
              "False"
            ]
          },
          "metadata": {},
          "execution_count": 86
        }
      ]
    },
    {
      "cell_type": "code",
      "metadata": {
        "id": "wb77YaWyK7c0"
      },
      "source": [
        "x_train = x_train.fillna(x_train.mean())"
      ],
      "execution_count": null,
      "outputs": []
    },
    {
      "cell_type": "code",
      "metadata": {
        "id": "dYcoMPV4LF7J"
      },
      "source": [
        "x_test=x_test.fillna(x_test.mean())"
      ],
      "execution_count": null,
      "outputs": []
    },
    {
      "cell_type": "markdown",
      "metadata": {
        "id": "_U3zw2nhRhVn"
      },
      "source": [
        "### Stock Price/Performance analysis using Logistic Regressor Model"
      ]
    },
    {
      "cell_type": "code",
      "metadata": {
        "colab": {
          "base_uri": "https://localhost:8080/"
        },
        "id": "2ePReHEQLIIE",
        "outputId": "0e894380-fd13-4b71-e7e5-9d454e3c4932"
      },
      "source": [
        "logit = LogisticRegression()\n",
        "logit.fit(x_train,y_train)\n",
        "y_logit_pred = logit.predict(x_test)\n",
        "accuracy_score(y_test,y_logit_pred)"
      ],
      "execution_count": null,
      "outputs": [
        {
          "output_type": "execute_result",
          "data": {
            "text/plain": [
              "0.8399532710280374"
            ]
          },
          "metadata": {},
          "execution_count": 89
        }
      ]
    },
    {
      "cell_type": "markdown",
      "metadata": {
        "id": "LhMZP50BRl0G"
      },
      "source": [
        "### Stock Price/Performance analysis using Random Forest Model"
      ]
    },
    {
      "cell_type": "code",
      "metadata": {
        "colab": {
          "base_uri": "https://localhost:8080/"
        },
        "id": "TAL5W7w1LKzz",
        "outputId": "85694689-f6fa-461a-d7a0-c20e194f5411"
      },
      "source": [
        "rf = RandomForestClassifier(n_estimators=200)\n",
        "rf.fit(x_train,y_train)\n",
        "y_rf_pred = rf.predict(x_test)\n",
        "accuracy_score(y_test,y_rf_pred)"
      ],
      "execution_count": null,
      "outputs": [
        {
          "output_type": "execute_result",
          "data": {
            "text/plain": [
              "0.8621495327102804"
            ]
          },
          "metadata": {},
          "execution_count": 90
        }
      ]
    },
    {
      "cell_type": "markdown",
      "metadata": {
        "id": "H3xu4NH-R_pZ"
      },
      "source": [
        "### Stock Price/Performance analysis using Decision Tree Model"
      ]
    },
    {
      "cell_type": "code",
      "metadata": {
        "colab": {
          "base_uri": "https://localhost:8080/"
        },
        "id": "a2ZXDQ_TLN3w",
        "outputId": "37067dc8-bad1-4410-89c0-102c5aa872f9"
      },
      "source": [
        "dt = DecisionTreeClassifier()\n",
        "dt.fit(x_train, y_train)\n",
        "y_dt_pred = dt.predict(x_test)\n",
        "accuracy_score(y_test,y_dt_pred)"
      ],
      "execution_count": null,
      "outputs": [
        {
          "output_type": "execute_result",
          "data": {
            "text/plain": [
              "0.8107476635514018"
            ]
          },
          "metadata": {},
          "execution_count": 91
        }
      ]
    },
    {
      "cell_type": "markdown",
      "metadata": {
        "id": "Jp4oKK4sSXA3"
      },
      "source": [
        "### Stock Price/Performance analysis using Linear Discriminant Analyser Model"
      ]
    },
    {
      "cell_type": "code",
      "metadata": {
        "colab": {
          "base_uri": "https://localhost:8080/"
        },
        "id": "BMjXe0shLScv",
        "outputId": "9cb63bd6-dd12-4362-fc4a-22a85f54c088"
      },
      "source": [
        "lda = LinearDiscriminantAnalysis()\n",
        "lda.fit(x_train, y_train)\n",
        "y_lda_pred = lda.predict(x_test)\n",
        "accuracy_score(y_test,y_lda_pred)"
      ],
      "execution_count": null,
      "outputs": [
        {
          "output_type": "execute_result",
          "data": {
            "text/plain": [
              "0.8551401869158879"
            ]
          },
          "metadata": {},
          "execution_count": 92
        }
      ]
    },
    {
      "cell_type": "markdown",
      "metadata": {
        "id": "WLckFtRhSpNK"
      },
      "source": [
        "### Stock Price/Performance analysis using AdaBoost Model"
      ]
    },
    {
      "cell_type": "code",
      "metadata": {
        "colab": {
          "base_uri": "https://localhost:8080/"
        },
        "id": "RX_FdsACLVka",
        "outputId": "cacd50d0-576f-41e2-f0da-109c47820b6a"
      },
      "source": [
        "adb = AdaBoostClassifier()\n",
        "adb.fit(x_train, y_train)\n",
        "y_adb_pred = adb.predict(x_test)\n",
        "accuracy_score(y_test,y_adb_pred)"
      ],
      "execution_count": null,
      "outputs": [
        {
          "output_type": "execute_result",
          "data": {
            "text/plain": [
              "0.8679906542056075"
            ]
          },
          "metadata": {},
          "execution_count": 93
        }
      ]
    },
    {
      "cell_type": "markdown",
      "metadata": {
        "id": "wI8CkbpvS0AW"
      },
      "source": [
        "### Stock Price/Performance analysis using Logistic Gradient Boosting Model"
      ]
    },
    {
      "cell_type": "code",
      "metadata": {
        "colab": {
          "base_uri": "https://localhost:8080/"
        },
        "id": "nCUJESDlLY9j",
        "outputId": "765b2738-95b9-428a-eca4-90e6e234ba5e"
      },
      "source": [
        "xgb = GradientBoostingClassifier()\n",
        "xgb.fit(x_train, y_train)\n",
        "y_xgb_pred = xgb.predict(x_test)\n",
        "accuracy_score(y_test,y_xgb_pred)"
      ],
      "execution_count": null,
      "outputs": [
        {
          "output_type": "execute_result",
          "data": {
            "text/plain": [
              "0.8714953271028038"
            ]
          },
          "metadata": {},
          "execution_count": 94
        }
      ]
    },
    {
      "cell_type": "markdown",
      "metadata": {
        "id": "jxFdIWT-S6F_"
      },
      "source": [
        "From the above calculations of the accuracy of the different models , the accuracy of the Logistic Gradient Boosting Model is highest , hence it is the suitable Hybrid model."
      ]
    }
  ]
}